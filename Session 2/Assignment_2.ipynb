{
 "cells": [
  {
   "cell_type": "markdown",
   "metadata": {},
   "source": [
    "# Assignment 2:\n",
    "### Exercise 1: FizzBuzz \n",
    "\n",
    "1. Write a FizzBuzz Function: Create a function fizzbuzz(n) that takes an integer n as a parameter.\n",
    "\n",
    "2. Implement FizzBuzz Logic: The function should print:\n",
    "- \"Fizz\" for multiples of 3\n",
    "- \"Buzz\" for multiples of 5\n",
    "- \"FizzBuzz\" for multiples of both 3 and 5\n",
    "- The number itself for other numbers\n",
    "3. Call the Function: Call the function for numbers 1 to 20"
   ]
  },
  {
   "cell_type": "code",
   "execution_count": 6,
   "metadata": {},
   "outputs": [
    {
     "name": "stdout",
     "output_type": "stream",
     "text": [
      "1 2 Fizz 4 Buzz Fizz 7 8 Fizz Buzz 11 Fizz 13 14 FizzBuzz 16 17 Fizz 19 Buzz "
     ]
    }
   ],
   "source": [
    "def fizzbuzz(n):\n",
    "    if n % 3 == 0 and n % 5 == 0:\n",
    "        print(\"FizzBuzz\", end=\" \")\n",
    "    elif n % 3 == 0:\n",
    "        print(\"Fizz\",end=\" \")\n",
    "    elif n % 5 == 0:\n",
    "        print(\"Buzz\",end=\" \")\n",
    "    else:\n",
    "        print(n, end=\" \")\n",
    "\n",
    "for i in range(1,21):\n",
    "    fizzbuzz(i)"
   ]
  },
  {
   "cell_type": "markdown",
   "metadata": {},
   "source": [
    "### Exercise 2: Basic Data Filtering \n",
    "1. Create a List of Mixed Data Types: Create a list that contains a mix of integers, strings, and floats. \n",
    "\n",
    "2. Filter the List: Use list comprehension to create a new list that contains only the integers from the original list.\n",
    "\n",
    "3. Print the New List: Output the filtered list of integers."
   ]
  },
  {
   "cell_type": "code",
   "execution_count": 7,
   "metadata": {},
   "outputs": [
    {
     "name": "stdout",
     "output_type": "stream",
     "text": [
      "[5, 10, 8, 2]\n"
     ]
    }
   ],
   "source": [
    "mixed_data= [5,10,8,'hello','ricardo',2.5,5.1,'barcelona',2]\n",
    "\n",
    "new_list=[]\n",
    "for i in mixed_data:\n",
    "    if type(i) == int:\n",
    "        new_list.append(i)\n",
    "## way to do it shorter: new_list = [x for x in mixed_data if type(x) == int]\n",
    "\n",
    "print(new_list)"
   ]
  },
  {
   "cell_type": "markdown",
   "metadata": {},
   "source": [
    "### Exercise 3: Simple To-Do List \n",
    "1. Create an Empty List: Start with an empty list called todo_list. \n",
    "2. Define Functions:\n",
    "- A function add_task(task) that adds a task to the list.\n",
    "- A function show_tasks() that prints all tasks in the list."
   ]
  },
  {
   "cell_type": "code",
   "execution_count": 9,
   "metadata": {},
   "outputs": [
    {
     "name": "stdout",
     "output_type": "stream",
     "text": [
      "['Learn Python', 'Learn Java', 'Learn C++', 'Learn C#', 'Learn Javascript']\n"
     ]
    }
   ],
   "source": [
    "todo_list = []\n",
    "def add_task(task):\n",
    "    todo_list.append(task)\n",
    "def show_tasks():\n",
    "    print (todo_list)\n",
    "\n",
    "add_task(\"Learn Python\")\n",
    "add_task(\"Learn Java\")\n",
    "add_task(\"Learn C++\")\n",
    "add_task(\"Learn C#\")\n",
    "add_task(\"Learn Javascript\")\n",
    "show_tasks()"
   ]
  },
  {
   "cell_type": "markdown",
   "metadata": {},
   "source": [
    "### Exercise 4: Temperature Converter\n",
    "1. Define a Conversion Function: Write a function celsius_to_fahrenheit(celsius) that converts Celsius to Fahrenheit.\n",
    "2. Print the Result: Output the converted temperature for 22ºF, 46ºF, 51ºF and 76ºF."
   ]
  },
  {
   "cell_type": "code",
   "execution_count": 10,
   "metadata": {},
   "outputs": [
    {
     "name": "stdout",
     "output_type": "stream",
     "text": [
      "71.6\n",
      "114.8\n",
      "123.8\n",
      "168.8\n"
     ]
    }
   ],
   "source": [
    "def celsius_to_fahrenheit(celsius):\n",
    "    return celsius * 9/5 + 32\n",
    "\n",
    "print(celsius_to_fahrenheit(22))\n",
    "print(celsius_to_fahrenheit(46))\n",
    "print(celsius_to_fahrenheit(51))\n",
    "print(celsius_to_fahrenheit(76))"
   ]
  }
 ],
 "metadata": {
  "kernelspec": {
   "display_name": "base",
   "language": "python",
   "name": "python3"
  },
  "language_info": {
   "codemirror_mode": {
    "name": "ipython",
    "version": 3
   },
   "file_extension": ".py",
   "mimetype": "text/x-python",
   "name": "python",
   "nbconvert_exporter": "python",
   "pygments_lexer": "ipython3",
   "version": "3.12.4"
  }
 },
 "nbformat": 4,
 "nbformat_minor": 2
}
