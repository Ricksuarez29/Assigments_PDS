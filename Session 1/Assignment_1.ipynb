{
 "cells": [
  {
   "cell_type": "markdown",
   "metadata": {},
   "source": [
    "# Assignment 1:\n",
    "### Syntax and variables\n",
    "\n",
    "Exercise 1: Write a Python program that prints a greeting message, such as \"Hello, Python!\"."
   ]
  },
  {
   "cell_type": "code",
   "execution_count": 1,
   "metadata": {},
   "outputs": [
    {
     "name": "stdout",
     "output_type": "stream",
     "text": [
      "Hello, Python!\n"
     ]
    }
   ],
   "source": [
    "print(\"Hello, Python!\")"
   ]
  },
  {
   "cell_type": "markdown",
   "metadata": {},
   "source": [
    "Exercise 2: Create a program that: Defines two variables, a and b, with numerical values. \n",
    "Prints their sum, difference, product, and quotient."
   ]
  },
  {
   "cell_type": "code",
   "execution_count": 3,
   "metadata": {},
   "outputs": [
    {
     "name": "stdout",
     "output_type": "stream",
     "text": [
      "15\n",
      "5\n",
      "50\n",
      "2.0\n"
     ]
    }
   ],
   "source": [
    "a = 10\n",
    "b = 5\n",
    "suma= a+b\n",
    "difference = a-b\n",
    "product = a*b\n",
    "quotient = a/b\n",
    "print(suma), print(difference), print(product)\n",
    "print(quotient)"
   ]
  },
  {
   "cell_type": "markdown",
   "metadata": {},
   "source": [
    "Exercise 3: Define a variable name and assign it your name. Write a program that prints a message saying\n",
    "\n",
    "\"Hello, [name]!\" where [name] is the value of the variable."
   ]
  },
  {
   "cell_type": "code",
   "execution_count": 4,
   "metadata": {},
   "outputs": [
    {
     "name": "stdout",
     "output_type": "stream",
     "text": [
      "Hello, Ricardo!\n"
     ]
    }
   ],
   "source": [
    "name= 'Ricardo'\n",
    "print(f'Hello, {name}!')"
   ]
  },
  {
   "cell_type": "markdown",
   "metadata": {},
   "source": [
    "### Lists and Dictionaries\n",
    "\n",
    "Exercise 4: Create a list called universities with at least five different university names.\n",
    "\n",
    "Print the entire list. Print the first and last university in the list."
   ]
  },
  {
   "cell_type": "code",
   "execution_count": 8,
   "metadata": {},
   "outputs": [
    {
     "name": "stdout",
     "output_type": "stream",
     "text": [
      "The different universities are: ESADE, IE, IESE, Pompeu Fabra, UPC.\n",
      "The first university is ESADE and the last is UPC.\n"
     ]
    }
   ],
   "source": [
    "universities = ['ESADE', 'IE', 'IESE', 'Pompeu Fabra', 'UPC']\n",
    "print(f\"The different universities are: {', '.join(universities)}.\")\n",
    "print(f\"The first university is {universities[0]} and the last is {universities[-1]}.\")"
   ]
  },
  {
   "cell_type": "markdown",
   "metadata": {},
   "source": [
    "Exercise 5: Create a dictionary called student with keys: name, age, and grade, and assign appropriate values to each key.\n",
    "\n",
    "Write a program that prints each key-value pair in the dictionary.\n"
   ]
  },
  {
   "cell_type": "code",
   "execution_count": 10,
   "metadata": {},
   "outputs": [
    {
     "name": "stdout",
     "output_type": "stream",
     "text": [
      "Name Ricardo\n",
      "Age 20\n",
      "Grade 10\n"
     ]
    }
   ],
   "source": [
    "students= {'Name': 'Ricardo', 'Age': 20, 'Grade': 10}\n",
    "for key, value in students.items():\n",
    "    print(key, value)"
   ]
  },
  {
   "cell_type": "markdown",
   "metadata": {},
   "source": [
    "### Tuples and Sets\n",
    "\n",
    "Exercise 6: Define a tuple called coordinates with two values representing a point in 2D space (e.g., (x, y)).\n",
    "\n",
    "Print the value of coordinates and access each element by its index."
   ]
  },
  {
   "cell_type": "code",
   "execution_count": 11,
   "metadata": {},
   "outputs": [
    {
     "name": "stdout",
     "output_type": "stream",
     "text": [
      "(1, 2)\n",
      "1 2\n"
     ]
    }
   ],
   "source": [
    "\n",
    "coordinates = (1, 2)\n",
    "print(coordinates)\n",
    "print(coordinates[0], coordinates[1])"
   ]
  },
  {
   "cell_type": "markdown",
   "metadata": {},
   "source": [
    "Exercise 7: Create a set called colors with the values: \"red\", \"green\", \"blue\". Add another color to the set.\n",
    "\n",
    "Try adding a duplicate color and observe what happens. Print the set and remove one color from it.\n",
    "\n",
    "Create another set named light_colors and merge colors and light_colors."
   ]
  },
  {
   "cell_type": "code",
   "execution_count": 12,
   "metadata": {},
   "outputs": [
    {
     "name": "stdout",
     "output_type": "stream",
     "text": [
      "{'red', 'blue', 'green', 'yellow'}\n",
      "{'red', 'blue', 'green'}\n",
      "{'', 'red', 'blue', 'yellow', 'light green', 'green'}\n"
     ]
    }
   ],
   "source": [
    "colors= {'red', 'green', 'blue'}\n",
    "colors.add('yellow')\n",
    "colors.add('red')\n",
    "print(colors)\n",
    "colors.remove('yellow')\n",
    "print(colors)\n",
    "light_colors = {'yellow', 'light green', ''}\n",
    "colors.update(light_colors)\n",
    "print(colors)"
   ]
  },
  {
   "cell_type": "markdown",
   "metadata": {},
   "source": [
    "### Control flow\n",
    "Exercise 8: Write a program that: Takes an input number from the user. Checks if the number is positive, negative, or zero.\n",
    "\n",
    "Prints an appropriate message based on the result."
   ]
  },
  {
   "cell_type": "code",
   "execution_count": 13,
   "metadata": {},
   "outputs": [
    {
     "name": "stdout",
     "output_type": "stream",
     "text": [
      "Positive\n"
     ]
    }
   ],
   "source": [
    "#Try with number 10\n",
    "number= int(input('Enter a number: '))\n",
    "if number > 0:\n",
    "    print('Positive')\n",
    "elif number < 0:\n",
    "    print('Negative')\n",
    "else:\n",
    "    print('Zero')"
   ]
  },
  {
   "cell_type": "code",
   "execution_count": 14,
   "metadata": {},
   "outputs": [
    {
     "name": "stdout",
     "output_type": "stream",
     "text": [
      "Negative\n"
     ]
    }
   ],
   "source": [
    "#Try with number -10\n",
    "number= int(input('Enter a number: '))\n",
    "if number > 0:\n",
    "    print('Positive')\n",
    "elif number < 0:\n",
    "    print('Negative')\n",
    "else:\n",
    "    print('Zero')"
   ]
  },
  {
   "cell_type": "markdown",
   "metadata": {},
   "source": [
    "Exercise 9: For Loop. Create a list of numbers from 1 to 5. Use a for loop to iterate through the list and print each number.\n"
   ]
  },
  {
   "cell_type": "code",
   "execution_count": 15,
   "metadata": {},
   "outputs": [
    {
     "name": "stdout",
     "output_type": "stream",
     "text": [
      "1 2 3 4 5 "
     ]
    }
   ],
   "source": [
    "list_numbers=[1, 2, 3, 4, 5]\n",
    "for i in list_numbers:\n",
    "    print(i, end= ' ')"
   ]
  },
  {
   "cell_type": "markdown",
   "metadata": {},
   "source": [
    "Exercise 10: While Loop. Write a program that uses a while loop to print numbers from 1 to 5. Ensure the loop terminates correctly."
   ]
  },
  {
   "cell_type": "code",
   "execution_count": 16,
   "metadata": {},
   "outputs": [
    {
     "name": "stdout",
     "output_type": "stream",
     "text": [
      "1 2 3 4 5 "
     ]
    }
   ],
   "source": [
    "iterable=1\n",
    "while iterable <= 5:\n",
    "    print(iterable, end= ' ')\n",
    "    iterable+=1"
   ]
  },
  {
   "cell_type": "markdown",
   "metadata": {},
   "source": [
    "Exercise 11: Match Statement. Write a program that: Asks the user to input a grade (e.g., \"A\", \"B\", \"C\", \"D\", or \"F\").\n",
    "\n",
    "Use a match statement to print a corresponding message for each grade: \"A\": \"Excellent!\" \"B\": \"Good job!\" \"C\": \"Fair.\"\n",
    "\n",
    "\"D\": \"Needs improvement.\" \"F\": \"Failing.\" Handle invalid input by printing a default message."
   ]
  },
  {
   "cell_type": "code",
   "execution_count": 17,
   "metadata": {},
   "outputs": [
    {
     "name": "stdout",
     "output_type": "stream",
     "text": [
      "Good job!\n"
     ]
    }
   ],
   "source": [
    "grade= input('Enter a grade: ')\n",
    "match grade:\n",
    "    case 'A':\n",
    "        print('Excellent!')\n",
    "    case 'B':\n",
    "        print('Good job!')\n",
    "    case 'C':\n",
    "        print('Fair.')\n",
    "    case 'D':\n",
    "        print('Needs improvement.')\n",
    "    case 'F':\n",
    "        print('Failing.')\n",
    "    case _:\n",
    "        print('Invalid grade')"
   ]
  },
  {
   "cell_type": "markdown",
   "metadata": {},
   "source": [
    "\n",
    "### Function\n",
    "Exercise 12: Write a function called greet that takes a name as an argument and prints \"Hello, [name]!\".\n",
    "\n",
    "Call the function with your own name."
   ]
  },
  {
   "cell_type": "code",
   "execution_count": 19,
   "metadata": {},
   "outputs": [
    {
     "name": "stdout",
     "output_type": "stream",
     "text": [
      "Hello, Ricardo!\n"
     ]
    }
   ],
   "source": [
    "def greet(name):\n",
    "    return print(f'Hello, {name}!')\n",
    "greet('Ricardo')"
   ]
  },
  {
   "cell_type": "markdown",
   "metadata": {},
   "source": [
    "Exercise 13: Define a function called square that takes a number as an argument and returns its square.\n",
    "\n",
    "Print the result of calling this function with different numbers.\n",
    " "
   ]
  },
  {
   "cell_type": "code",
   "execution_count": 21,
   "metadata": {},
   "outputs": [
    {
     "name": "stdout",
     "output_type": "stream",
     "text": [
      "16\n",
      "25\n",
      "54756\n"
     ]
    }
   ],
   "source": [
    "def square(number):\n",
    "    return number**2\n",
    "print(square(4))\n",
    "print(square(5))\n",
    "print(square(234))"
   ]
  },
  {
   "cell_type": "markdown",
   "metadata": {},
   "source": [
    " \n",
    "Exercise 14: Write a function called multiply that takes two parameters, a and b, and returns their product.\n",
    "Set a default value of 1 for the parameter b. Test the function with and without providing the second argument."
   ]
  },
  {
   "cell_type": "code",
   "execution_count": 22,
   "metadata": {},
   "outputs": [
    {
     "name": "stdout",
     "output_type": "stream",
     "text": [
      "10\n",
      "5\n"
     ]
    }
   ],
   "source": [
    "def multiply(a, b=1):\n",
    "    return a*b\n",
    "print(multiply(5, 2))\n",
    "print(multiply(5))"
   ]
  },
  {
   "cell_type": "markdown",
   "metadata": {},
   "source": [
    "Exercise 15: Create a list of numbers from 1 to 10. \n",
    "\n",
    "Use list comprehension to create a new list that contains the squares of these numbers. Print the new list."
   ]
  },
  {
   "cell_type": "code",
   "execution_count": 23,
   "metadata": {},
   "outputs": [
    {
     "name": "stdout",
     "output_type": "stream",
     "text": [
      "[1, 4, 9, 16, 25, 36, 49, 64, 81, 100]\n"
     ]
    }
   ],
   "source": [
    "list= [1, 2, 3, 4, 5, 6, 7, 8, 9, 10]\n",
    "squares= []\n",
    "for i in list:\n",
    "    squares.append(i**2)\n",
    "print(squares)"
   ]
  },
  {
   "cell_type": "markdown",
   "metadata": {},
   "source": [
    "Exercise 16: Create a dictionary where the keys are names of students and the values are lists of their grades.\n",
    "Write a function that takes the dictionary and prints the average grade for each student."
   ]
  },
  {
   "cell_type": "code",
   "execution_count": 24,
   "metadata": {},
   "outputs": [
    {
     "name": "stdout",
     "output_type": "stream",
     "text": [
      "Ricardo 8.5\n",
      "Joaquin 6.75\n",
      "Cristian 9.5\n"
     ]
    }
   ],
   "source": [
    "grades= {'Ricardo':[10,9,7,8], 'Joaquin':[5,9,5,8], 'Cristian':[10,9,9,10]}\n",
    "\n",
    "def average(grades):\n",
    "    for key, value in grades.items():\n",
    "        print(key, sum(value)/len(value))\n",
    "\n",
    "average(grades)\n"
   ]
  },
  {
   "cell_type": "markdown",
   "metadata": {},
   "source": [
    "Exercise 17: Write a program that: Defines a function calculate which takes three parameters: two numbers and an operator (+, -, *, /).\n",
    "\n",
    "Performs the operation and returns the result.\n",
    "\n",
    "Ask the user for the two numbers and the operator, then call the function and print the result.\n",
    "\n"
   ]
  },
  {
   "cell_type": "code",
   "execution_count": 26,
   "metadata": {},
   "outputs": [
    {
     "name": "stdout",
     "output_type": "stream",
     "text": [
      "150\n"
     ]
    }
   ],
   "source": [
    "def calculate(a, b, operator):\n",
    "    if operator == '+':\n",
    "        return a+b\n",
    "    elif operator == '-':\n",
    "        return a-b\n",
    "    elif operator == '*':\n",
    "        return a*b\n",
    "    elif operator == '/':\n",
    "        return a/b\n",
    "    else:\n",
    "        return 'Invalid operator'\n",
    "num1= int(input('Enter a number: '))\n",
    "num2= int(input('Enter another number: '))\n",
    "oper= input('Enter an operator: ')\n",
    "print(calculate(num1, num2, oper))\n",
    "# a= 5, b=3, operator=*"
   ]
  }
 ],
 "metadata": {
  "kernelspec": {
   "display_name": "base",
   "language": "python",
   "name": "python3"
  },
  "language_info": {
   "codemirror_mode": {
    "name": "ipython",
    "version": 3
   },
   "file_extension": ".py",
   "mimetype": "text/x-python",
   "name": "python",
   "nbconvert_exporter": "python",
   "pygments_lexer": "ipython3",
   "version": "3.12.4"
  }
 },
 "nbformat": 4,
 "nbformat_minor": 2
}
