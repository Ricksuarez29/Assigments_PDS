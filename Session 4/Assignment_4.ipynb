{
 "cells": [
  {
   "cell_type": "markdown",
   "metadata": {},
   "source": [
    "## Basic Libraries I\n",
    "\n",
    "Let's jump into today's exercice."
   ]
  },
  {
   "cell_type": "markdown",
   "metadata": {},
   "source": [
    "### Exercise\n",
    "\n",
    "\n",
    "Given a zip file with a subfolder with multiple annotations, where the name convention for each one of them is: \n",
    "\n",
    "{DATE}_{TIME}_SN{SATELLITE_NUMBER}_QUICKVIEW_VISUAL_{VERSION}_{UNIQUE_REGION}.txt\n",
    "\n",
    "where:\n",
    "\n",
    "- DATE expressed as YYYYMMDD (year, month and day), e.g. 20241201, 20230321 ...\n",
    "- TIME expressed as HHMMSS (hour, minutes and seconds), e.g. 2134307\n",
    "- SATELLITE_NUMBER an integer that represents the satellite number.\n",
    "- VERSION provides the version of the pipeline, e.g. \"0_1_2\", \"1_3_1\" ...\n",
    "- UNIQUE_REGION provides a unique location in the form of a string, e.g SATL-2KM-10N_552_4164\n",
    "\n",
    "Find out the following thing about your data:\n",
    "\n",
    "1. How many files the annotations folder has.\n",
    "2. How many of them follow the name convention expressed above.\n",
    "3. How many of annotations you have per month and year. Which month has more annotation files.\n",
    "4. Create a new annotations folder with multiple folders corresponding to a month.\n",
    "5. Print all the annotations from the most recent to the oldest one. \n",
    "6. How many different satellites there are, how many annotations we have per satellite number, and which one was used in the most recent annotation file. \n",
    "7. How many unique regions there are.\n",
    "\n",
    "some tips:\n",
    "- str class has a method called split, you can use it to get each field per annotation.\n",
    "- you can use sort from numpy on strings."
   ]
  },
  {
   "cell_type": "code",
   "execution_count": 1,
   "metadata": {},
   "outputs": [
    {
     "name": "stdout",
     "output_type": "stream",
     "text": [
      "hola\n"
     ]
    }
   ],
   "source": [
    "print(\"hola\")"
   ]
  }
 ],
 "metadata": {
  "kernelspec": {
   "display_name": "base",
   "language": "python",
   "name": "python3"
  },
  "language_info": {
   "codemirror_mode": {
    "name": "ipython",
    "version": 3
   },
   "file_extension": ".py",
   "mimetype": "text/x-python",
   "name": "python",
   "nbconvert_exporter": "python",
   "pygments_lexer": "ipython3",
   "version": "3.12.4"
  }
 },
 "nbformat": 4,
 "nbformat_minor": 2
}
