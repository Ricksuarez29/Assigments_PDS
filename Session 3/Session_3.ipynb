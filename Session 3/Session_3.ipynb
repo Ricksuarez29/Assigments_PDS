{
  "cells": [
    {
      "cell_type": "markdown",
      "id": "24b98369-c7ba-450b-a8b5-e34319000695",
      "metadata": {
        "editable": true,
        "id": "24b98369-c7ba-450b-a8b5-e34319000695",
        "tags": []
      },
      "source": [
        "# Python for Data Science\n",
        "## Session 3\n",
        "### Object Oriented Programming"
      ]
    },
    {
      "cell_type": "markdown",
      "id": "aba315f4-e9bf-4a66-b3d3-593037c3ca70",
      "metadata": {
        "editable": true,
        "id": "aba315f4-e9bf-4a66-b3d3-593037c3ca70",
        "tags": []
      },
      "source": [
        "---"
      ]
    },
    {
      "cell_type": "markdown",
      "id": "42f8be9a-cc71-4a58-97ac-1a54219a2d72",
      "metadata": {
        "editable": true,
        "id": "42f8be9a-cc71-4a58-97ac-1a54219a2d72",
        "tags": []
      },
      "source": [
        "\n",
        "### Hands on\n",
        "\n",
        "Let's design a course registration system, where the requirements will be:\n",
        "\n",
        "1. Create a **Course** class, where each course has a name, a description and a list of enrolled students. You'll need to implement the next methods:\n",
        "    - Add a student to the course.\n",
        "    - Remove a student from the course.\n",
        "    - Show all students in the course."
      ]
    },
    {
      "cell_type": "code",
      "execution_count": 1,
      "id": "e5430dcf-a01a-4ea1-aff8-5bad4531ab1e",
      "metadata": {
        "editable": true,
        "id": "e5430dcf-a01a-4ea1-aff8-5bad4531ab1e",
        "tags": []
      },
      "outputs": [],
      "source": [
        "class Course:\n",
        "    def __init__(self, name, course_type):\n",
        "        self.students = []\n",
        "        self.name = name\n",
        "        self.course_type = course_type\n",
        "\n",
        "    def add_student(self, student):\n",
        "        if student not in self.students:\n",
        "            self.students.append(student)\n",
        "        else:\n",
        "            print(f\"{student} is already enrolled in the course {self.name}.\")\n",
        "\n",
        "    def remove_student(self, student):\n",
        "        if student in self.students:\n",
        "            self.students.remove(student)\n",
        "        else:\n",
        "            print(f\"{student} is not enrolled in the course {self.name}.\")\n",
        "\n",
        "    def show_students(self):\n",
        "        if self.students:\n",
        "            print(f\"Students enrolled in {self.name}:\")\n",
        "            for student in self.students:\n",
        "                print(f\"- {student}\", end=\" \")\n",
        "            print()\n",
        "        else:\n",
        "            print(f\"No students are enrolled in the course {self.name}.\")\n"
      ]
    },
    {
      "cell_type": "code",
      "execution_count": 2,
      "id": "f4d178a3",
      "metadata": {},
      "outputs": [
        {
          "name": "stdout",
          "output_type": "stream",
          "text": [
            "Students enrolled in Python:\n",
            "- Ricardo - Maria - Cristian \n",
            "Students enrolled in Data Analysis:\n",
            "- Cristian - Ana \n",
            "No students are enrolled in the course Machine Learning.\n"
          ]
        }
      ],
      "source": [
        "course_1= Course(\"Python\", \"Python for Data Science\")\n",
        "course_2= Course(\"Data Analysis\", \"Python for Data Analysis\")\n",
        "course_3= Course(\"Machine Learning\", \"Python for Machine Learning\")\n",
        "course_1.add_student(\"Joan\"),course_1.add_student(\"Ricardo\")\n",
        "course_1.add_student(\"Maria\"),course_1.add_student(\"Cristian\")\n",
        "course_2.add_student(\"Cristian\"),course_2.add_student(\"Ana\")\n",
        "course_1.remove_student(\"Joan\")\n",
        "course_1.show_students()\n",
        "course_2.show_students()\n",
        "course_3.show_students()"
      ]
    },
    {
      "cell_type": "markdown",
      "id": "16cc578c-9fe3-4478-81da-3071e3adb318",
      "metadata": {
        "editable": true,
        "id": "16cc578c-9fe3-4478-81da-3071e3adb318",
        "tags": []
      },
      "source": [
        "2. Create a **Student** class, where each student has a name, ID number, address and a list of enrolled courses with the following methods:\n",
        "    - Enroll in a course.\n",
        "    - Drop a course.\n",
        "    - Show all registered student courses."
      ]
    },
    {
      "cell_type": "code",
      "execution_count": 3,
      "id": "fe4cce31-1ddf-4847-bc8d-924dc3e0dfe1",
      "metadata": {
        "editable": true,
        "id": "fe4cce31-1ddf-4847-bc8d-924dc3e0dfe1",
        "tags": []
      },
      "outputs": [],
      "source": [
        "class Student:\n",
        "    def __init__(self, name, id_number, address):\n",
        "        self.name = name\n",
        "        self.id_number = id_number\n",
        "        self.address = address\n",
        "        self.enrolled_courses = []\n",
        "\n",
        "    def enroll_in_course(self, course):\n",
        "        if course not in self.enrolled_courses:\n",
        "            self.enrolled_courses.append(course)\n",
        "            course.add_student(self.name)\n",
        "            print(f\"{self.name} has been enrolled in {course.name}.\")\n",
        "        else:\n",
        "            print(f\"{self.name} is already enrolled in {course.name}.\")\n",
        "\n",
        "    def drop_course(self, course):\n",
        "        if course in self.enrolled_courses:\n",
        "            self.enrolled_courses.remove(course)\n",
        "            course.remove_student(self.name)\n",
        "            print(f\"{self.name} has been removed from {course.name}.\")\n",
        "        else:\n",
        "            print(f\"{self.name} is not enrolled in {course.name}.\")\n",
        "\n",
        "    def show_courses(self):\n",
        "        if self.enrolled_courses:\n",
        "            print(f\"{self.name} is enrolled in the following courses:\")\n",
        "            for course in self.enrolled_courses:\n",
        "                print(f\"- {course.name}\")\n",
        "        else:\n",
        "            print(f\"{self.name} is not enrolled in any courses.\")\n"
      ]
    },
    {
      "cell_type": "code",
      "execution_count": 4,
      "id": "9c966af0",
      "metadata": {},
      "outputs": [
        {
          "name": "stdout",
          "output_type": "stream",
          "text": [
            "Joan has been enrolled in Python.\n",
            "Claudio has been enrolled in Python.\n",
            "Claudio has been enrolled in Data Analysis.\n",
            "Joan is enrolled in the following courses:\n",
            "- Python\n",
            "Claudio is enrolled in the following courses:\n",
            "- Python\n",
            "- Data Analysis\n"
          ]
        }
      ],
      "source": [
        "student_1, student_2 = Student(\"Joan\", 123456, \"Josep Tarradellas 29\"), Student(\"Claudio\", 234567, \"Avellaneda 123\")\n",
        "student_1.enroll_in_course(course_1)\n",
        "student_2.enroll_in_course(course_1)\n",
        "student_2.enroll_in_course(course_2)\n",
        "student_1.show_courses()\n",
        "student_2.show_courses()\n"
      ]
    },
    {
      "cell_type": "code",
      "execution_count": 5,
      "id": "c1b85b76",
      "metadata": {},
      "outputs": [
        {
          "name": "stdout",
          "output_type": "stream",
          "text": [
            "Students enrolled in Python:\n",
            "- Ricardo - Maria - Cristian - Joan - Claudio \n",
            "Students enrolled in Data Analysis:\n",
            "- Cristian - Ana - Claudio \n"
          ]
        }
      ],
      "source": [
        "course_1.show_students()\n",
        "course_2.show_students()"
      ]
    },
    {
      "cell_type": "code",
      "execution_count": 6,
      "id": "19cfebeb",
      "metadata": {},
      "outputs": [
        {
          "name": "stdout",
          "output_type": "stream",
          "text": [
            "Students enrolled in Python:\n",
            "- Ricardo - Maria - Cristian - Claudio \n"
          ]
        }
      ],
      "source": [
        "course_1.remove_student(student_1.name)\n",
        "course_1.show_students()"
      ]
    },
    {
      "cell_type": "markdown",
      "id": "5c54b2fe-691f-4520-b8d6-2515ba92b808",
      "metadata": {
        "editable": true,
        "id": "5c54b2fe-691f-4520-b8d6-2515ba92b808",
        "tags": []
      },
      "source": [
        "3. Create a central class that manages courses and students, **Registration** class, where you have a list of students and a list of courses, and methods:\n",
        "    - Enroll in a course.\n",
        "    - Drop a course.\n",
        "    - Show all the enrolled courses.\n",
        "    - Show all the students."
      ]
    },
    {
      "cell_type": "code",
      "execution_count": 7,
      "id": "863f30c7-3cf8-4ac9-8599-e7df8e0d483c",
      "metadata": {
        "editable": true,
        "id": "863f30c7-3cf8-4ac9-8599-e7df8e0d483c",
        "tags": []
      },
      "outputs": [],
      "source": [
        "class Registration:\n",
        "    def __init__(self):\n",
        "        self.students = []\n",
        "        self.courses = []\n",
        "\n",
        "    def add_student(self, student):\n",
        "        if student not in self.students:\n",
        "            self.students.append(student)\n",
        "        else:\n",
        "            print(f\"{student.name} is already registered.\")\n",
        "\n",
        "    def add_course(self, course):\n",
        "        if course not in self.courses:\n",
        "            self.courses.append(course)\n",
        "        else:\n",
        "            print(f\"Course {course.name} is already offered.\")\n",
        "\n",
        "    def enroll_student_in_course(self, student, course):\n",
        "        if student in self.students and course in self.courses:\n",
        "            student.enroll_in_course(course)\n",
        "        else:\n",
        "            print(\"Student or course not found in the registration system.\")\n",
        "\n",
        "    def drop_student_from_course(self, student, course):\n",
        "        if student in self.students and course in self.courses:\n",
        "            student.drop_course(course)\n",
        "        else:\n",
        "            print(\"Student or course not found in the registration system.\")\n",
        "\n",
        "    def show_all_enrolled_courses(self, student):\n",
        "        if student in self.students:\n",
        "            student.show_courses()\n",
        "        else:\n",
        "            print(f\"Student {student.name} not found in the registration system.\")\n",
        "\n",
        "    def show_all_students(self, course):\n",
        "        if course in self.courses:\n",
        "            course.show_students()\n",
        "        else:\n",
        "            print(f\"Course {course.name} not found in the registration system.\")\n"
      ]
    },
    {
      "cell_type": "code",
      "execution_count": 8,
      "id": "14b01fdd",
      "metadata": {},
      "outputs": [
        {
          "name": "stdout",
          "output_type": "stream",
          "text": [
            "Joan is enrolled in the following courses:\n",
            "- Python\n",
            "Claudio is enrolled in the following courses:\n",
            "- Python\n",
            "- Data Analysis\n",
            "Joan has been enrolled in Data Analysis.\n",
            "Students enrolled in Python:\n",
            "- Ricardo - Maria - Cristian - Claudio \n",
            "Students enrolled in Data Analysis:\n",
            "- Cristian - Ana - Claudio - Joan \n"
          ]
        }
      ],
      "source": [
        "Registration_1 = Registration()\n",
        "Registration_1.add_student(student_1)\n",
        "Registration_1.add_student(student_2)\n",
        "Registration_1.add_course(course_1)\n",
        "Registration_1.add_course(course_2)\n",
        "Registration_1.add_course(course_3)\n",
        "Registration_1.show_all_enrolled_courses(student_1)\n",
        "Registration_1.show_all_enrolled_courses(student_2)\n",
        "Registration_1.enroll_student_in_course(student_1, course_2)\n",
        "Registration_1.show_all_students(course_1)\n",
        "Registration_1.show_all_students(course_2)\n"
      ]
    },
    {
      "cell_type": "markdown",
      "id": "2958b01b-3472-4c95-ae1f-771edc638749",
      "metadata": {
        "editable": true,
        "id": "2958b01b-3472-4c95-ae1f-771edc638749",
        "tags": []
      },
      "source": [
        "4. Let's add grades to each student's course and create method that yields the GPA given a student name or ID."
      ]
    },
    {
      "cell_type": "code",
      "execution_count": 9,
      "id": "d4d45bb3",
      "metadata": {},
      "outputs": [],
      "source": [
        "## To set the grade of a student in a course, we add the method on the new class student, and then on the registration class.\n",
        "\n",
        "class Student:\n",
        "    def __init__(self, name, id_number, address):\n",
        "        self.name = name\n",
        "        self.id_number = id_number\n",
        "        self.address = address\n",
        "        self.enrolled_courses = {}\n",
        "\n",
        "    def __str__(self):\n",
        "        return self.name\n",
        "\n",
        "    def enroll_in_course(self, course):\n",
        "        if course not in self.enrolled_courses:\n",
        "            self.enrolled_courses[course] = None  # Initial grade is None\n",
        "            course.add_student(self)  # Ensure student is added to course only once\n",
        "            print(f\"{self.name} has been enrolled in {course.name}.\")\n",
        "        else:\n",
        "            print(f\"{self.name} is already enrolled in {course.name}.\")\n",
        "\n",
        "    def drop_course(self, course):\n",
        "        if course in self.enrolled_courses:\n",
        "            del self.enrolled_courses[course]\n",
        "            course.remove_student(self)  # Ensure student is removed from course\n",
        "            print(f\"{self.name} has been removed from {course.name}.\")\n",
        "        else:\n",
        "            print(f\"{self.name} is not enrolled in {course.name}.\")\n",
        "\n",
        "    def set_grade(self, course, grade):\n",
        "        if course in self.enrolled_courses:\n",
        "            self.enrolled_courses[course] = grade\n",
        "        else:\n",
        "            print(f\"{self.name} is not enrolled in {course.name}.\")\n",
        "\n",
        "    def show_courses(self):\n",
        "        if self.enrolled_courses:\n",
        "            print(f\"{self.name} is enrolled in the following courses:\")\n",
        "            for course, grade in self.enrolled_courses.items():\n",
        "                print(f\"- {course.name}: {grade if grade is not None else 'No grade'}\")\n",
        "        else:\n",
        "            print(f\"{self.name} is not enrolled in any courses.\")\n",
        "\n",
        "class Registration:\n",
        "    def __init__(self):\n",
        "        self.students = []\n",
        "        self.courses = []\n",
        "\n",
        "    def add_student(self, student):\n",
        "        if student not in self.students:\n",
        "            self.students.append(student)\n",
        "        else:\n",
        "            print(f\"{student.name} is already registered.\")\n",
        "\n",
        "    def add_course(self, course):\n",
        "        if course not in self.courses:\n",
        "            self.courses.append(course)\n",
        "        else:\n",
        "            print(f\"Course {course.name} is already offered.\")\n",
        "\n",
        "    def enroll_student_in_course(self, student, course):\n",
        "        if student in self.students and course in self.courses:\n",
        "            if course not in student.enrolled_courses:\n",
        "                student.enroll_in_course(course)\n",
        "            else:\n",
        "                print(f\"{student.name} is already enrolled in the course {course.name}.\")\n",
        "        else:\n",
        "            print(\"Student or course not found in the registration system.\")\n",
        "\n",
        "    def drop_student_from_course(self, student, course):\n",
        "        if student in self.students and course in self.courses:\n",
        "            if course in student.enrolled_courses:\n",
        "                student.drop_course(course)\n",
        "            else:\n",
        "                print(f\"{student.name} is not enrolled in the course {course.name}.\")\n",
        "        else:\n",
        "            print(\"Student or course not found in the registration system.\")\n",
        "\n",
        "    def show_all_enrolled_courses(self, student):\n",
        "        if student in self.students:\n",
        "            student.show_courses()\n",
        "        else:\n",
        "            print(f\"Student {student.name} not found in the registration system.\")\n",
        "\n",
        "    def show_all_students(self, course):\n",
        "        if course in self.courses:\n",
        "            course.show_students()\n",
        "        else:\n",
        "            print(f\"Course {course.name} not found in the registration system.\")\n",
        "\n",
        "    def calculate_gpa(self, student):\n",
        "        if student in self.students:\n",
        "            total_points = 0\n",
        "            total_courses = 0\n",
        "            for course, grade in student.enrolled_courses.items():\n",
        "                if grade is not None:\n",
        "                    total_points += grade\n",
        "                    total_courses += 1\n",
        "            if total_courses > 0:\n",
        "                gpa = total_points / total_courses\n",
        "                print(f\"{student.name}'s GPA is {gpa:.2f}\")\n",
        "            else:\n",
        "                print(f\"{student.name} has no graded courses.\")\n",
        "        else:\n",
        "            print(f\"Student {student.name} not found in the registration system.\")\n"
      ]
    },
    {
      "cell_type": "code",
      "execution_count": 10,
      "id": "af3fe94f",
      "metadata": {},
      "outputs": [],
      "source": [
        "Registration_2 = Registration()\n",
        "student_3 = Student(\"Javier\", \"123456\", \"Cordoba\")"
      ]
    },
    {
      "cell_type": "code",
      "execution_count": 11,
      "id": "cc3d9c13",
      "metadata": {},
      "outputs": [
        {
          "name": "stdout",
          "output_type": "stream",
          "text": [
            "Students enrolled in Python:\n",
            "- Ricardo - Maria - Cristian - Claudio \n",
            "Javier is not enrolled in any courses.\n",
            "Javier has been enrolled in Python.\n",
            "Javier has been enrolled in Data Analysis.\n",
            "Students enrolled in Python:\n",
            "- Ricardo - Maria - Cristian - Claudio - Javier \n",
            "Students enrolled in Data Analysis:\n",
            "- Cristian - Ana - Claudio - Joan - Javier \n",
            "Javier's GPA is 8.50\n"
          ]
        }
      ],
      "source": [
        "Registration_2.add_student(student_3)\n",
        "Registration_2.add_course(course_1)\n",
        "Registration_2.add_course(course_2)\n",
        "Registration_2.add_course(course_3)\n",
        "Registration_2.show_all_students(course_1)\n",
        "Registration_2.show_all_enrolled_courses(student_3)\n",
        "Registration_2.enroll_student_in_course(student_3, course_1)\n",
        "Registration_2.enroll_student_in_course(student_3, course_2)\n",
        "Registration_2.show_all_students(course_1)\n",
        "Registration_2.show_all_students(course_2)\n",
        "student_3.set_grade(course_1, 10)\n",
        "student_3.set_grade(course_2, 7)\n",
        "\n",
        "Registration_2.calculate_gpa(student_3)"
      ]
    },
    {
      "cell_type": "markdown",
      "id": "76c565a9-dc30-464c-980d-d522cd5246f4",
      "metadata": {
        "editable": true,
        "id": "76c565a9-dc30-464c-980d-d522cd5246f4",
        "tags": []
      },
      "source": [
        "## That's all!"
      ]
    }
  ],
  "metadata": {
    "colab": {
      "provenance": []
    },
    "kernelspec": {
      "display_name": "base",
      "language": "python",
      "name": "python3"
    },
    "language_info": {
      "codemirror_mode": {
        "name": "ipython",
        "version": 3
      },
      "file_extension": ".py",
      "mimetype": "text/x-python",
      "name": "python",
      "nbconvert_exporter": "python",
      "pygments_lexer": "ipython3",
      "version": "3.12.4"
    }
  },
  "nbformat": 4,
  "nbformat_minor": 5
}
