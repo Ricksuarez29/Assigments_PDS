{
 "cells": [
  {
   "cell_type": "markdown",
   "id": "24b98369-c7ba-450b-a8b5-e34319000695",
   "metadata": {
    "slideshow": {
     "slide_type": "slide"
    },
    "tags": []
   },
   "source": [
    "# Python for Data Science\n",
    "## Session 7\n",
    "### Datasets – Pandas II"
   ]
  },
  {
   "cell_type": "markdown",
   "id": "3ace1343-d73d-466d-aa07-56febbb7cbf1",
   "metadata": {
    "slideshow": {
     "slide_type": "skip"
    },
    "tags": []
   },
   "source": [
    "---"
   ]
  },
  {
   "cell_type": "markdown",
   "id": "357af7ec",
   "metadata": {
    "slideshow": {
     "slide_type": "slide"
    }
   },
   "source": [
    "## Exercises\n",
    "### Handling Missing Data and Data Transformation\n",
    "\n"
   ]
  },
  {
   "cell_type": "markdown",
   "id": "a8b03091",
   "metadata": {
    "slideshow": {
     "slide_type": "subslide"
    }
   },
   "source": [
    "1. Create a new column called **professor_initials** that stores the initials of each professor's first and last names. Use the following data:"
   ]
  },
  {
   "cell_type": "code",
   "execution_count": 1,
   "id": "88943693",
   "metadata": {},
   "outputs": [],
   "source": [
    "import pandas as pd"
   ]
  },
  {
   "cell_type": "code",
   "execution_count": 2,
   "id": "d08f7771",
   "metadata": {
    "slideshow": {
     "slide_type": "fragment"
    }
   },
   "outputs": [
    {
     "data": {
      "text/html": [
       "<div>\n",
       "<style scoped>\n",
       "    .dataframe tbody tr th:only-of-type {\n",
       "        vertical-align: middle;\n",
       "    }\n",
       "\n",
       "    .dataframe tbody tr th {\n",
       "        vertical-align: top;\n",
       "    }\n",
       "\n",
       "    .dataframe thead th {\n",
       "        text-align: right;\n",
       "    }\n",
       "</style>\n",
       "<table border=\"1\" class=\"dataframe\">\n",
       "  <thead>\n",
       "    <tr style=\"text-align: right;\">\n",
       "      <th></th>\n",
       "      <th>professor</th>\n",
       "      <th>department</th>\n",
       "      <th>age</th>\n",
       "    </tr>\n",
       "  </thead>\n",
       "  <tbody>\n",
       "    <tr>\n",
       "      <th>0</th>\n",
       "      <td>Ludmila Kuncheva</td>\n",
       "      <td>Computer Science</td>\n",
       "      <td>45</td>\n",
       "    </tr>\n",
       "    <tr>\n",
       "      <th>1</th>\n",
       "      <td>Antonio Torralba</td>\n",
       "      <td>Computer Vision</td>\n",
       "      <td>50</td>\n",
       "    </tr>\n",
       "    <tr>\n",
       "      <th>2</th>\n",
       "      <td>Manuel Gonzalez</td>\n",
       "      <td>AI &amp; Robotics</td>\n",
       "      <td>47</td>\n",
       "    </tr>\n",
       "    <tr>\n",
       "      <th>3</th>\n",
       "      <td>Bastian Leibe</td>\n",
       "      <td>Autonomous Systems</td>\n",
       "      <td>38</td>\n",
       "    </tr>\n",
       "  </tbody>\n",
       "</table>\n",
       "</div>"
      ],
      "text/plain": [
       "          professor          department  age\n",
       "0  Ludmila Kuncheva    Computer Science   45\n",
       "1  Antonio Torralba     Computer Vision   50\n",
       "2   Manuel Gonzalez       AI & Robotics   47\n",
       "3     Bastian Leibe  Autonomous Systems   38"
      ]
     },
     "execution_count": 2,
     "metadata": {},
     "output_type": "execute_result"
    }
   ],
   "source": [
    "data = {\n",
    "    'professor': ['Ludmila Kuncheva', 'Antonio Torralba', 'Manuel Gonzalez', 'Bastian Leibe'],\n",
    "    'department': ['Computer Science', 'Computer Vision', 'AI & Robotics', 'Autonomous Systems'],\n",
    "    'age': [45, 50, 47, 38]\n",
    "}\n",
    "\n",
    "df = pd.DataFrame(data)\n",
    "df"
   ]
  },
  {
   "cell_type": "code",
   "execution_count": 3,
   "id": "6a27dcb9",
   "metadata": {},
   "outputs": [
    {
     "data": {
      "text/html": [
       "<div>\n",
       "<style scoped>\n",
       "    .dataframe tbody tr th:only-of-type {\n",
       "        vertical-align: middle;\n",
       "    }\n",
       "\n",
       "    .dataframe tbody tr th {\n",
       "        vertical-align: top;\n",
       "    }\n",
       "\n",
       "    .dataframe thead th {\n",
       "        text-align: right;\n",
       "    }\n",
       "</style>\n",
       "<table border=\"1\" class=\"dataframe\">\n",
       "  <thead>\n",
       "    <tr style=\"text-align: right;\">\n",
       "      <th></th>\n",
       "      <th>professor</th>\n",
       "      <th>department</th>\n",
       "      <th>age</th>\n",
       "      <th>professor_initials</th>\n",
       "    </tr>\n",
       "  </thead>\n",
       "  <tbody>\n",
       "    <tr>\n",
       "      <th>0</th>\n",
       "      <td>Ludmila Kuncheva</td>\n",
       "      <td>Computer Science</td>\n",
       "      <td>45</td>\n",
       "      <td>LK</td>\n",
       "    </tr>\n",
       "    <tr>\n",
       "      <th>1</th>\n",
       "      <td>Antonio Torralba</td>\n",
       "      <td>Computer Vision</td>\n",
       "      <td>50</td>\n",
       "      <td>AT</td>\n",
       "    </tr>\n",
       "    <tr>\n",
       "      <th>2</th>\n",
       "      <td>Manuel Gonzalez</td>\n",
       "      <td>AI &amp; Robotics</td>\n",
       "      <td>47</td>\n",
       "      <td>MG</td>\n",
       "    </tr>\n",
       "    <tr>\n",
       "      <th>3</th>\n",
       "      <td>Bastian Leibe</td>\n",
       "      <td>Autonomous Systems</td>\n",
       "      <td>38</td>\n",
       "      <td>BL</td>\n",
       "    </tr>\n",
       "  </tbody>\n",
       "</table>\n",
       "</div>"
      ],
      "text/plain": [
       "          professor          department  age professor_initials\n",
       "0  Ludmila Kuncheva    Computer Science   45                 LK\n",
       "1  Antonio Torralba     Computer Vision   50                 AT\n",
       "2   Manuel Gonzalez       AI & Robotics   47                 MG\n",
       "3     Bastian Leibe  Autonomous Systems   38                 BL"
      ]
     },
     "execution_count": 3,
     "metadata": {},
     "output_type": "execute_result"
    }
   ],
   "source": [
    "# We extract the initials of each professor\n",
    "df['professor_initials'] = df['professor'].apply(lambda x: ''.join([name[0] for name in x.split()]))\n",
    "\n",
    "df # Print the dataframe to check it worked.\n"
   ]
  },
  {
   "cell_type": "markdown",
   "id": "861804e0",
   "metadata": {},
   "source": [
    "<div class=\"alert alert-warning\"> We check the same code to see that it works properly even with more than 2 names or surnames. </div>"
   ]
  },
  {
   "cell_type": "code",
   "execution_count": 4,
   "id": "68983392",
   "metadata": {},
   "outputs": [
    {
     "data": {
      "text/html": [
       "<div>\n",
       "<style scoped>\n",
       "    .dataframe tbody tr th:only-of-type {\n",
       "        vertical-align: middle;\n",
       "    }\n",
       "\n",
       "    .dataframe tbody tr th {\n",
       "        vertical-align: top;\n",
       "    }\n",
       "\n",
       "    .dataframe thead th {\n",
       "        text-align: right;\n",
       "    }\n",
       "</style>\n",
       "<table border=\"1\" class=\"dataframe\">\n",
       "  <thead>\n",
       "    <tr style=\"text-align: right;\">\n",
       "      <th></th>\n",
       "      <th>professor</th>\n",
       "      <th>department</th>\n",
       "      <th>age</th>\n",
       "      <th>professor_initials</th>\n",
       "    </tr>\n",
       "  </thead>\n",
       "  <tbody>\n",
       "    <tr>\n",
       "      <th>0</th>\n",
       "      <td>Ludmila Kuncheva</td>\n",
       "      <td>Computer Science</td>\n",
       "      <td>45</td>\n",
       "      <td>LK</td>\n",
       "    </tr>\n",
       "    <tr>\n",
       "      <th>1</th>\n",
       "      <td>Antonio Torralba</td>\n",
       "      <td>Computer Vision</td>\n",
       "      <td>50</td>\n",
       "      <td>AT</td>\n",
       "    </tr>\n",
       "    <tr>\n",
       "      <th>2</th>\n",
       "      <td>Ricardo Jose Suarez</td>\n",
       "      <td>Algebra</td>\n",
       "      <td>25</td>\n",
       "      <td>RJS</td>\n",
       "    </tr>\n",
       "    <tr>\n",
       "      <th>3</th>\n",
       "      <td>Carlota Julieta Lopez Obrador</td>\n",
       "      <td>Social Sciences</td>\n",
       "      <td>31</td>\n",
       "      <td>CJLO</td>\n",
       "    </tr>\n",
       "  </tbody>\n",
       "</table>\n",
       "</div>"
      ],
      "text/plain": [
       "                       professor        department  age professor_initials\n",
       "0               Ludmila Kuncheva  Computer Science   45                 LK\n",
       "1               Antonio Torralba   Computer Vision   50                 AT\n",
       "2            Ricardo Jose Suarez           Algebra   25                RJS\n",
       "3  Carlota Julieta Lopez Obrador   Social Sciences   31               CJLO"
      ]
     },
     "execution_count": 4,
     "metadata": {},
     "output_type": "execute_result"
    }
   ],
   "source": [
    "data_test = {\n",
    "    'professor': ['Ludmila Kuncheva', 'Antonio Torralba','Ricardo Jose Suarez','Carlota Julieta Lopez Obrador'],\n",
    "    'department': ['Computer Science', 'Computer Vision','Algebra','Social Sciences'],\n",
    "    'age': [45, 50, 25, 31]\n",
    "}\n",
    "df_test = pd.DataFrame(data_test)\n",
    "df_test['professor_initials'] = df_test['professor'].apply(lambda x: ''.join([name[0] for name in x.split()]))\n",
    "\n",
    "df_test"
   ]
  },
  {
   "cell_type": "markdown",
   "id": "5106a7f0",
   "metadata": {
    "slideshow": {
     "slide_type": "subslide"
    }
   },
   "source": [
    "2. Given the dataframe below. Use **join** to combine this new DataFrame with the original one based on the professor column."
   ]
  },
  {
   "cell_type": "code",
   "execution_count": 5,
   "id": "eef7e871",
   "metadata": {
    "slideshow": {
     "slide_type": "fragment"
    }
   },
   "outputs": [
    {
     "data": {
      "text/html": [
       "<div>\n",
       "<style scoped>\n",
       "    .dataframe tbody tr th:only-of-type {\n",
       "        vertical-align: middle;\n",
       "    }\n",
       "\n",
       "    .dataframe tbody tr th {\n",
       "        vertical-align: top;\n",
       "    }\n",
       "\n",
       "    .dataframe thead th {\n",
       "        text-align: right;\n",
       "    }\n",
       "</style>\n",
       "<table border=\"1\" class=\"dataframe\">\n",
       "  <thead>\n",
       "    <tr style=\"text-align: right;\">\n",
       "      <th></th>\n",
       "      <th>professor</th>\n",
       "      <th>courses</th>\n",
       "    </tr>\n",
       "  </thead>\n",
       "  <tbody>\n",
       "    <tr>\n",
       "      <th>0</th>\n",
       "      <td>Ludmila Kuncheva</td>\n",
       "      <td>Machine Learning</td>\n",
       "    </tr>\n",
       "    <tr>\n",
       "      <th>1</th>\n",
       "      <td>Antonio Torralba</td>\n",
       "      <td>Computer Vision</td>\n",
       "    </tr>\n",
       "    <tr>\n",
       "      <th>2</th>\n",
       "      <td>Manuel Gonzalez</td>\n",
       "      <td>AI Programming</td>\n",
       "    </tr>\n",
       "    <tr>\n",
       "      <th>3</th>\n",
       "      <td>Bastian Leibe</td>\n",
       "      <td>Self-Driving Cars</td>\n",
       "    </tr>\n",
       "  </tbody>\n",
       "</table>\n",
       "</div>"
      ],
      "text/plain": [
       "          professor            courses\n",
       "0  Ludmila Kuncheva   Machine Learning\n",
       "1  Antonio Torralba    Computer Vision\n",
       "2   Manuel Gonzalez     AI Programming\n",
       "3     Bastian Leibe  Self-Driving Cars"
      ]
     },
     "execution_count": 5,
     "metadata": {},
     "output_type": "execute_result"
    }
   ],
   "source": [
    "courses_data = {\n",
    "    'professor': ['Ludmila Kuncheva', 'Antonio Torralba', 'Manuel Gonzalez', 'Bastian Leibe'],\n",
    "    'courses': ['Machine Learning', 'Computer Vision', 'AI Programming', 'Self-Driving Cars']\n",
    "}\n",
    "df_courses = pd.DataFrame(courses_data)\n",
    "df_courses"
   ]
  },
  {
   "cell_type": "code",
   "execution_count": 6,
   "id": "29725d6c",
   "metadata": {},
   "outputs": [
    {
     "data": {
      "text/html": [
       "<div>\n",
       "<style scoped>\n",
       "    .dataframe tbody tr th:only-of-type {\n",
       "        vertical-align: middle;\n",
       "    }\n",
       "\n",
       "    .dataframe tbody tr th {\n",
       "        vertical-align: top;\n",
       "    }\n",
       "\n",
       "    .dataframe thead th {\n",
       "        text-align: right;\n",
       "    }\n",
       "</style>\n",
       "<table border=\"1\" class=\"dataframe\">\n",
       "  <thead>\n",
       "    <tr style=\"text-align: right;\">\n",
       "      <th></th>\n",
       "      <th>professor</th>\n",
       "      <th>courses</th>\n",
       "      <th>department</th>\n",
       "      <th>age</th>\n",
       "      <th>professor_initials</th>\n",
       "    </tr>\n",
       "  </thead>\n",
       "  <tbody>\n",
       "    <tr>\n",
       "      <th>0</th>\n",
       "      <td>Ludmila Kuncheva</td>\n",
       "      <td>Machine Learning</td>\n",
       "      <td>Computer Science</td>\n",
       "      <td>45</td>\n",
       "      <td>LK</td>\n",
       "    </tr>\n",
       "    <tr>\n",
       "      <th>1</th>\n",
       "      <td>Antonio Torralba</td>\n",
       "      <td>Computer Vision</td>\n",
       "      <td>Computer Vision</td>\n",
       "      <td>50</td>\n",
       "      <td>AT</td>\n",
       "    </tr>\n",
       "    <tr>\n",
       "      <th>2</th>\n",
       "      <td>Manuel Gonzalez</td>\n",
       "      <td>AI Programming</td>\n",
       "      <td>AI &amp; Robotics</td>\n",
       "      <td>47</td>\n",
       "      <td>MG</td>\n",
       "    </tr>\n",
       "    <tr>\n",
       "      <th>3</th>\n",
       "      <td>Bastian Leibe</td>\n",
       "      <td>Self-Driving Cars</td>\n",
       "      <td>Autonomous Systems</td>\n",
       "      <td>38</td>\n",
       "      <td>BL</td>\n",
       "    </tr>\n",
       "  </tbody>\n",
       "</table>\n",
       "</div>"
      ],
      "text/plain": [
       "          professor            courses          department  age  \\\n",
       "0  Ludmila Kuncheva   Machine Learning    Computer Science   45   \n",
       "1  Antonio Torralba    Computer Vision     Computer Vision   50   \n",
       "2   Manuel Gonzalez     AI Programming       AI & Robotics   47   \n",
       "3     Bastian Leibe  Self-Driving Cars  Autonomous Systems   38   \n",
       "\n",
       "  professor_initials  \n",
       "0                 LK  \n",
       "1                 AT  \n",
       "2                 MG  \n",
       "3                 BL  "
      ]
     },
     "execution_count": 6,
     "metadata": {},
     "output_type": "execute_result"
    }
   ],
   "source": [
    "# Set 'professor' as the index \n",
    "df.set_index('professor', inplace=True)\n",
    "\n",
    "df_courses = df_courses.join(df, on='professor', how='inner') # We join it using inner\n",
    "\n",
    "df_courses"
   ]
  },
  {
   "cell_type": "code",
   "execution_count": null,
   "id": "0fc3ac1d",
   "metadata": {},
   "outputs": [
    {
     "data": {
      "text/html": [
       "<div>\n",
       "<style scoped>\n",
       "    .dataframe tbody tr th:only-of-type {\n",
       "        vertical-align: middle;\n",
       "    }\n",
       "\n",
       "    .dataframe tbody tr th {\n",
       "        vertical-align: top;\n",
       "    }\n",
       "\n",
       "    .dataframe thead th {\n",
       "        text-align: right;\n",
       "    }\n",
       "</style>\n",
       "<table border=\"1\" class=\"dataframe\">\n",
       "  <thead>\n",
       "    <tr style=\"text-align: right;\">\n",
       "      <th></th>\n",
       "      <th>department</th>\n",
       "      <th>age</th>\n",
       "      <th>professor_initials</th>\n",
       "      <th>courses</th>\n",
       "    </tr>\n",
       "    <tr>\n",
       "      <th>professor</th>\n",
       "      <th></th>\n",
       "      <th></th>\n",
       "      <th></th>\n",
       "      <th></th>\n",
       "    </tr>\n",
       "  </thead>\n",
       "  <tbody>\n",
       "    <tr>\n",
       "      <th>Ludmila Kuncheva</th>\n",
       "      <td>Computer Science</td>\n",
       "      <td>45</td>\n",
       "      <td>LK</td>\n",
       "      <td>Machine Learning</td>\n",
       "    </tr>\n",
       "    <tr>\n",
       "      <th>Antonio Torralba</th>\n",
       "      <td>Computer Vision</td>\n",
       "      <td>50</td>\n",
       "      <td>AT</td>\n",
       "      <td>Computer Vision</td>\n",
       "    </tr>\n",
       "    <tr>\n",
       "      <th>Manuel Gonzalez</th>\n",
       "      <td>AI &amp; Robotics</td>\n",
       "      <td>47</td>\n",
       "      <td>MG</td>\n",
       "      <td>AI Programming</td>\n",
       "    </tr>\n",
       "    <tr>\n",
       "      <th>Bastian Leibe</th>\n",
       "      <td>Autonomous Systems</td>\n",
       "      <td>38</td>\n",
       "      <td>BL</td>\n",
       "      <td>Self-Driving Cars</td>\n",
       "    </tr>\n",
       "  </tbody>\n",
       "</table>\n",
       "</div>"
      ],
      "text/plain": [
       "                          department  age professor_initials  \\\n",
       "professor                                                      \n",
       "Ludmila Kuncheva    Computer Science   45                 LK   \n",
       "Antonio Torralba     Computer Vision   50                 AT   \n",
       "Manuel Gonzalez        AI & Robotics   47                 MG   \n",
       "Bastian Leibe     Autonomous Systems   38                 BL   \n",
       "\n",
       "                            courses  \n",
       "professor                            \n",
       "Ludmila Kuncheva   Machine Learning  \n",
       "Antonio Torralba    Computer Vision  \n",
       "Manuel Gonzalez      AI Programming  \n",
       "Bastian Leibe     Self-Driving Cars  "
      ]
     },
     "execution_count": 7,
     "metadata": {},
     "output_type": "execute_result"
    }
   ],
   "source": [
    "# There is also another way to make the join.\n",
    "courses_data = {\n",
    "    'professor': ['Ludmila Kuncheva', 'Antonio Torralba', 'Manuel Gonzalez', 'Bastian Leibe'],\n",
    "    'courses': ['Machine Learning', 'Computer Vision', 'AI Programming', 'Self-Driving Cars']\n",
    "}\n",
    "\n",
    "df_courses = pd.DataFrame(courses_data)\n",
    "df_courses.set_index('professor', inplace=True)\n",
    "\n",
    "# Joining the DataFrames on the index\n",
    "df_combined = df.join(df_courses)\n",
    "\n",
    "df_combined"
   ]
  },
  {
   "cell_type": "markdown",
   "id": "560756f3",
   "metadata": {
    "slideshow": {
     "slide_type": "subslide"
    }
   },
   "source": [
    "3. Combine the original df and df_courses DataFrames."
   ]
  },
  {
   "cell_type": "code",
   "execution_count": 9,
   "id": "611a913e",
   "metadata": {
    "slideshow": {
     "slide_type": "fragment"
    }
   },
   "outputs": [],
   "source": [
    "data = {\n",
    "    'professor': ['Ludmila Kuncheva', 'Antonio Torralba', 'Manuel Gonzalez', 'Bastian Leibe'],\n",
    "    'department': ['Computer Science', 'Computer Vision', 'AI & Robotics', 'Autonomous Systems'],\n",
    "    'age': [45, 50, 47, 38]\n",
    "}\n",
    "\n",
    "df = pd.DataFrame(data)\n",
    "\n",
    "courses_data = {\n",
    "    'professor': ['Ludmila Kuncheva', 'Antonio Torralba', 'Manuel Gonzalez', 'Bastian Leibe'],\n",
    "    'courses': ['Machine Learning', 'Computer Vision', 'AI Programming', 'Self-Driving Cars']\n",
    "}\n",
    "df_courses = pd.DataFrame(courses_data)"
   ]
  },
  {
   "cell_type": "code",
   "execution_count": null,
   "id": "6ab752cc",
   "metadata": {},
   "outputs": [
    {
     "data": {
      "text/html": [
       "<div>\n",
       "<style scoped>\n",
       "    .dataframe tbody tr th:only-of-type {\n",
       "        vertical-align: middle;\n",
       "    }\n",
       "\n",
       "    .dataframe tbody tr th {\n",
       "        vertical-align: top;\n",
       "    }\n",
       "\n",
       "    .dataframe thead th {\n",
       "        text-align: right;\n",
       "    }\n",
       "</style>\n",
       "<table border=\"1\" class=\"dataframe\">\n",
       "  <thead>\n",
       "    <tr style=\"text-align: right;\">\n",
       "      <th></th>\n",
       "      <th>professor</th>\n",
       "      <th>department</th>\n",
       "      <th>age</th>\n",
       "      <th>courses</th>\n",
       "    </tr>\n",
       "  </thead>\n",
       "  <tbody>\n",
       "    <tr>\n",
       "      <th>0</th>\n",
       "      <td>Ludmila Kuncheva</td>\n",
       "      <td>Computer Science</td>\n",
       "      <td>45</td>\n",
       "      <td>Machine Learning</td>\n",
       "    </tr>\n",
       "    <tr>\n",
       "      <th>1</th>\n",
       "      <td>Antonio Torralba</td>\n",
       "      <td>Computer Vision</td>\n",
       "      <td>50</td>\n",
       "      <td>Computer Vision</td>\n",
       "    </tr>\n",
       "    <tr>\n",
       "      <th>2</th>\n",
       "      <td>Manuel Gonzalez</td>\n",
       "      <td>AI &amp; Robotics</td>\n",
       "      <td>47</td>\n",
       "      <td>AI Programming</td>\n",
       "    </tr>\n",
       "    <tr>\n",
       "      <th>3</th>\n",
       "      <td>Bastian Leibe</td>\n",
       "      <td>Autonomous Systems</td>\n",
       "      <td>38</td>\n",
       "      <td>Self-Driving Cars</td>\n",
       "    </tr>\n",
       "  </tbody>\n",
       "</table>\n",
       "</div>"
      ],
      "text/plain": [
       "          professor          department  age            courses\n",
       "0  Ludmila Kuncheva    Computer Science   45   Machine Learning\n",
       "1  Antonio Torralba     Computer Vision   50    Computer Vision\n",
       "2   Manuel Gonzalez       AI & Robotics   47     AI Programming\n",
       "3     Bastian Leibe  Autonomous Systems   38  Self-Driving Cars"
      ]
     },
     "execution_count": 11,
     "metadata": {},
     "output_type": "execute_result"
    }
   ],
   "source": [
    "# Now we use the merge function\n",
    "df_combined = pd.merge(df, df_courses, on='professor')\n",
    "\n",
    "df_combined"
   ]
  },
  {
   "cell_type": "markdown",
   "id": "2f71cb7b",
   "metadata": {
    "slideshow": {
     "slide_type": "subslide"
    }
   },
   "source": [
    "4. In the professor column, create a new column professor_last_name by extracting the last name of each professor using string operations."
   ]
  },
  {
   "cell_type": "code",
   "execution_count": null,
   "id": "48195b50",
   "metadata": {},
   "outputs": [
    {
     "data": {
      "text/html": [
       "<div>\n",
       "<style scoped>\n",
       "    .dataframe tbody tr th:only-of-type {\n",
       "        vertical-align: middle;\n",
       "    }\n",
       "\n",
       "    .dataframe tbody tr th {\n",
       "        vertical-align: top;\n",
       "    }\n",
       "\n",
       "    .dataframe thead th {\n",
       "        text-align: right;\n",
       "    }\n",
       "</style>\n",
       "<table border=\"1\" class=\"dataframe\">\n",
       "  <thead>\n",
       "    <tr style=\"text-align: right;\">\n",
       "      <th></th>\n",
       "      <th>professor</th>\n",
       "      <th>department</th>\n",
       "      <th>age</th>\n",
       "      <th>courses</th>\n",
       "      <th>professor_last_name</th>\n",
       "    </tr>\n",
       "  </thead>\n",
       "  <tbody>\n",
       "    <tr>\n",
       "      <th>0</th>\n",
       "      <td>Ludmila Kuncheva</td>\n",
       "      <td>Computer Science</td>\n",
       "      <td>45</td>\n",
       "      <td>Machine Learning</td>\n",
       "      <td>Kuncheva</td>\n",
       "    </tr>\n",
       "    <tr>\n",
       "      <th>1</th>\n",
       "      <td>Antonio Torralba</td>\n",
       "      <td>Computer Vision</td>\n",
       "      <td>50</td>\n",
       "      <td>Computer Vision</td>\n",
       "      <td>Torralba</td>\n",
       "    </tr>\n",
       "    <tr>\n",
       "      <th>2</th>\n",
       "      <td>Manuel Gonzalez</td>\n",
       "      <td>AI &amp; Robotics</td>\n",
       "      <td>47</td>\n",
       "      <td>AI Programming</td>\n",
       "      <td>Gonzalez</td>\n",
       "    </tr>\n",
       "    <tr>\n",
       "      <th>3</th>\n",
       "      <td>Bastian Leibe</td>\n",
       "      <td>Autonomous Systems</td>\n",
       "      <td>38</td>\n",
       "      <td>Self-Driving Cars</td>\n",
       "      <td>Leibe</td>\n",
       "    </tr>\n",
       "  </tbody>\n",
       "</table>\n",
       "</div>"
      ],
      "text/plain": [
       "          professor          department  age            courses  \\\n",
       "0  Ludmila Kuncheva    Computer Science   45   Machine Learning   \n",
       "1  Antonio Torralba     Computer Vision   50    Computer Vision   \n",
       "2   Manuel Gonzalez       AI & Robotics   47     AI Programming   \n",
       "3     Bastian Leibe  Autonomous Systems   38  Self-Driving Cars   \n",
       "\n",
       "  professor_last_name  \n",
       "0            Kuncheva  \n",
       "1            Torralba  \n",
       "2            Gonzalez  \n",
       "3               Leibe  "
      ]
     },
     "execution_count": 12,
     "metadata": {},
     "output_type": "execute_result"
    }
   ],
   "source": [
    "# Creating professor_last_name column by extracting the last name\n",
    "df_combined['professor_last_name'] = df_combined['professor'].apply(lambda x: x.split()[-1])\n",
    "\n",
    "df_combined"
   ]
  },
  {
   "cell_type": "code",
   "execution_count": 14,
   "id": "0bea810a",
   "metadata": {},
   "outputs": [
    {
     "data": {
      "text/html": [
       "<div>\n",
       "<style scoped>\n",
       "    .dataframe tbody tr th:only-of-type {\n",
       "        vertical-align: middle;\n",
       "    }\n",
       "\n",
       "    .dataframe tbody tr th {\n",
       "        vertical-align: top;\n",
       "    }\n",
       "\n",
       "    .dataframe thead th {\n",
       "        text-align: right;\n",
       "    }\n",
       "</style>\n",
       "<table border=\"1\" class=\"dataframe\">\n",
       "  <thead>\n",
       "    <tr style=\"text-align: right;\">\n",
       "      <th></th>\n",
       "      <th>professor</th>\n",
       "      <th>department</th>\n",
       "      <th>age</th>\n",
       "      <th>courses</th>\n",
       "      <th>professor_last_name</th>\n",
       "      <th>professor_first_name</th>\n",
       "    </tr>\n",
       "  </thead>\n",
       "  <tbody>\n",
       "    <tr>\n",
       "      <th>0</th>\n",
       "      <td>Ludmila Kuncheva</td>\n",
       "      <td>Computer Science</td>\n",
       "      <td>45</td>\n",
       "      <td>Machine Learning</td>\n",
       "      <td>Kuncheva</td>\n",
       "      <td>Ludmila</td>\n",
       "    </tr>\n",
       "    <tr>\n",
       "      <th>1</th>\n",
       "      <td>Antonio Torralba</td>\n",
       "      <td>Computer Vision</td>\n",
       "      <td>50</td>\n",
       "      <td>Computer Vision</td>\n",
       "      <td>Torralba</td>\n",
       "      <td>Antonio</td>\n",
       "    </tr>\n",
       "    <tr>\n",
       "      <th>2</th>\n",
       "      <td>Manuel Gonzalez</td>\n",
       "      <td>AI &amp; Robotics</td>\n",
       "      <td>47</td>\n",
       "      <td>AI Programming</td>\n",
       "      <td>Gonzalez</td>\n",
       "      <td>Manuel</td>\n",
       "    </tr>\n",
       "    <tr>\n",
       "      <th>3</th>\n",
       "      <td>Bastian Leibe</td>\n",
       "      <td>Autonomous Systems</td>\n",
       "      <td>38</td>\n",
       "      <td>Self-Driving Cars</td>\n",
       "      <td>Leibe</td>\n",
       "      <td>Bastian</td>\n",
       "    </tr>\n",
       "  </tbody>\n",
       "</table>\n",
       "</div>"
      ],
      "text/plain": [
       "          professor          department  age            courses  \\\n",
       "0  Ludmila Kuncheva    Computer Science   45   Machine Learning   \n",
       "1  Antonio Torralba     Computer Vision   50    Computer Vision   \n",
       "2   Manuel Gonzalez       AI & Robotics   47     AI Programming   \n",
       "3     Bastian Leibe  Autonomous Systems   38  Self-Driving Cars   \n",
       "\n",
       "  professor_last_name professor_first_name  \n",
       "0            Kuncheva              Ludmila  \n",
       "1            Torralba              Antonio  \n",
       "2            Gonzalez               Manuel  \n",
       "3               Leibe              Bastian  "
      ]
     },
     "execution_count": 14,
     "metadata": {},
     "output_type": "execute_result"
    }
   ],
   "source": [
    "# We can easily do it as well for the first name \n",
    "df_combined['professor_first_name'] = df_combined['professor'].apply(lambda x: x.split()[0])\n",
    "\n",
    "df_combined"
   ]
  },
  {
   "cell_type": "markdown",
   "id": "b093f8bd",
   "metadata": {
    "slideshow": {
     "slide_type": "slide"
    }
   },
   "source": [
    "\n",
    "### Summary\n",
    "\n",
    "Today we saw deeper ways of manipulating **dataframes** and **series**, from applying functions on columns, merging / joining multiple datasets, replacing missing values, to finally work with strings using regex in the back."
   ]
  }
 ],
 "metadata": {
  "celltoolbar": "Slideshow",
  "kernelspec": {
   "display_name": "Python 3",
   "language": "python",
   "name": "python3"
  },
  "language_info": {
   "codemirror_mode": {
    "name": "ipython",
    "version": 3
   },
   "file_extension": ".py",
   "mimetype": "text/x-python",
   "name": "python",
   "nbconvert_exporter": "python",
   "pygments_lexer": "ipython3",
   "version": "3.11.9"
  }
 },
 "nbformat": 4,
 "nbformat_minor": 5
}
