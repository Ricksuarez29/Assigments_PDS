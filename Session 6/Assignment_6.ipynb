{
 "cells": [
  {
   "cell_type": "markdown",
   "id": "24b98369-c7ba-450b-a8b5-e34319000695",
   "metadata": {
    "slideshow": {
     "slide_type": "slide"
    },
    "tags": []
   },
   "source": [
    "# Python for Data Science\n",
    "## Session 6\n",
    "### Datasets – Pandas I "
   ]
  },
  {
   "cell_type": "markdown",
   "id": "3ace1343-d73d-466d-aa07-56febbb7cbf1",
   "metadata": {
    "slideshow": {
     "slide_type": "skip"
    },
    "tags": []
   },
   "source": [
    "---"
   ]
  },
  {
   "cell_type": "markdown",
   "id": "054e849a",
   "metadata": {
    "slideshow": {
     "slide_type": "slide"
    },
    "tags": []
   },
   "source": [
    "# Exercices\n",
    "\n",
    "Let's load *Netflix* titles and do some exercices"
   ]
  },
  {
   "cell_type": "code",
   "execution_count": 21,
   "id": "2b55e011",
   "metadata": {
    "slideshow": {
     "slide_type": "subslide"
    }
   },
   "outputs": [
    {
     "data": {
      "text/plain": [
       "(8807, 12)"
      ]
     },
     "execution_count": 21,
     "metadata": {},
     "output_type": "execute_result"
    }
   ],
   "source": [
    "# Download the dataset uploaded on the folder\n",
    "import pandas as pd\n",
    "path = 'netflix_titles.csv'  ## check that the path is correct in your device (pwd)\n",
    "\n",
    "df = pd.read_csv(path)\n",
    "df.shape ## We check the shape of the dataframe"
   ]
  },
  {
   "cell_type": "code",
   "execution_count": 22,
   "id": "596f247e",
   "metadata": {},
   "outputs": [
    {
     "data": {
      "text/plain": [
       "Index(['show_id', 'type', 'title', 'director', 'cast', 'country', 'date_added',\n",
       "       'release_year', 'rating', 'duration', 'listed_in', 'description'],\n",
       "      dtype='object')"
      ]
     },
     "execution_count": 22,
     "metadata": {},
     "output_type": "execute_result"
    }
   ],
   "source": [
    "df.columns"
   ]
  },
  {
   "cell_type": "code",
   "execution_count": 23,
   "id": "c60303ac",
   "metadata": {},
   "outputs": [
    {
     "data": {
      "text/html": [
       "<div>\n",
       "<style scoped>\n",
       "    .dataframe tbody tr th:only-of-type {\n",
       "        vertical-align: middle;\n",
       "    }\n",
       "\n",
       "    .dataframe tbody tr th {\n",
       "        vertical-align: top;\n",
       "    }\n",
       "\n",
       "    .dataframe thead th {\n",
       "        text-align: right;\n",
       "    }\n",
       "</style>\n",
       "<table border=\"1\" class=\"dataframe\">\n",
       "  <thead>\n",
       "    <tr style=\"text-align: right;\">\n",
       "      <th></th>\n",
       "      <th>show_id</th>\n",
       "      <th>type</th>\n",
       "      <th>title</th>\n",
       "      <th>director</th>\n",
       "      <th>cast</th>\n",
       "      <th>country</th>\n",
       "      <th>date_added</th>\n",
       "      <th>release_year</th>\n",
       "      <th>rating</th>\n",
       "      <th>duration</th>\n",
       "      <th>listed_in</th>\n",
       "      <th>description</th>\n",
       "    </tr>\n",
       "  </thead>\n",
       "  <tbody>\n",
       "    <tr>\n",
       "      <th>0</th>\n",
       "      <td>s1</td>\n",
       "      <td>Movie</td>\n",
       "      <td>Dick Johnson Is Dead</td>\n",
       "      <td>Kirsten Johnson</td>\n",
       "      <td>NaN</td>\n",
       "      <td>United States</td>\n",
       "      <td>September 25, 2021</td>\n",
       "      <td>2020</td>\n",
       "      <td>PG-13</td>\n",
       "      <td>90 min</td>\n",
       "      <td>Documentaries</td>\n",
       "      <td>As her father nears the end of his life, filmm...</td>\n",
       "    </tr>\n",
       "    <tr>\n",
       "      <th>1</th>\n",
       "      <td>s2</td>\n",
       "      <td>TV Show</td>\n",
       "      <td>Blood &amp; Water</td>\n",
       "      <td>NaN</td>\n",
       "      <td>Ama Qamata, Khosi Ngema, Gail Mabalane, Thaban...</td>\n",
       "      <td>South Africa</td>\n",
       "      <td>September 24, 2021</td>\n",
       "      <td>2021</td>\n",
       "      <td>TV-MA</td>\n",
       "      <td>2 Seasons</td>\n",
       "      <td>International TV Shows, TV Dramas, TV Mysteries</td>\n",
       "      <td>After crossing paths at a party, a Cape Town t...</td>\n",
       "    </tr>\n",
       "    <tr>\n",
       "      <th>2</th>\n",
       "      <td>s3</td>\n",
       "      <td>TV Show</td>\n",
       "      <td>Ganglands</td>\n",
       "      <td>Julien Leclercq</td>\n",
       "      <td>Sami Bouajila, Tracy Gotoas, Samuel Jouy, Nabi...</td>\n",
       "      <td>NaN</td>\n",
       "      <td>September 24, 2021</td>\n",
       "      <td>2021</td>\n",
       "      <td>TV-MA</td>\n",
       "      <td>1 Season</td>\n",
       "      <td>Crime TV Shows, International TV Shows, TV Act...</td>\n",
       "      <td>To protect his family from a powerful drug lor...</td>\n",
       "    </tr>\n",
       "    <tr>\n",
       "      <th>3</th>\n",
       "      <td>s4</td>\n",
       "      <td>TV Show</td>\n",
       "      <td>Jailbirds New Orleans</td>\n",
       "      <td>NaN</td>\n",
       "      <td>NaN</td>\n",
       "      <td>NaN</td>\n",
       "      <td>September 24, 2021</td>\n",
       "      <td>2021</td>\n",
       "      <td>TV-MA</td>\n",
       "      <td>1 Season</td>\n",
       "      <td>Docuseries, Reality TV</td>\n",
       "      <td>Feuds, flirtations and toilet talk go down amo...</td>\n",
       "    </tr>\n",
       "    <tr>\n",
       "      <th>4</th>\n",
       "      <td>s5</td>\n",
       "      <td>TV Show</td>\n",
       "      <td>Kota Factory</td>\n",
       "      <td>NaN</td>\n",
       "      <td>Mayur More, Jitendra Kumar, Ranjan Raj, Alam K...</td>\n",
       "      <td>India</td>\n",
       "      <td>September 24, 2021</td>\n",
       "      <td>2021</td>\n",
       "      <td>TV-MA</td>\n",
       "      <td>2 Seasons</td>\n",
       "      <td>International TV Shows, Romantic TV Shows, TV ...</td>\n",
       "      <td>In a city of coaching centers known to train I...</td>\n",
       "    </tr>\n",
       "  </tbody>\n",
       "</table>\n",
       "</div>"
      ],
      "text/plain": [
       "  show_id     type                  title         director  \\\n",
       "0      s1    Movie   Dick Johnson Is Dead  Kirsten Johnson   \n",
       "1      s2  TV Show          Blood & Water              NaN   \n",
       "2      s3  TV Show              Ganglands  Julien Leclercq   \n",
       "3      s4  TV Show  Jailbirds New Orleans              NaN   \n",
       "4      s5  TV Show           Kota Factory              NaN   \n",
       "\n",
       "                                                cast        country  \\\n",
       "0                                                NaN  United States   \n",
       "1  Ama Qamata, Khosi Ngema, Gail Mabalane, Thaban...   South Africa   \n",
       "2  Sami Bouajila, Tracy Gotoas, Samuel Jouy, Nabi...            NaN   \n",
       "3                                                NaN            NaN   \n",
       "4  Mayur More, Jitendra Kumar, Ranjan Raj, Alam K...          India   \n",
       "\n",
       "           date_added  release_year rating   duration  \\\n",
       "0  September 25, 2021          2020  PG-13     90 min   \n",
       "1  September 24, 2021          2021  TV-MA  2 Seasons   \n",
       "2  September 24, 2021          2021  TV-MA   1 Season   \n",
       "3  September 24, 2021          2021  TV-MA   1 Season   \n",
       "4  September 24, 2021          2021  TV-MA  2 Seasons   \n",
       "\n",
       "                                           listed_in  \\\n",
       "0                                      Documentaries   \n",
       "1    International TV Shows, TV Dramas, TV Mysteries   \n",
       "2  Crime TV Shows, International TV Shows, TV Act...   \n",
       "3                             Docuseries, Reality TV   \n",
       "4  International TV Shows, Romantic TV Shows, TV ...   \n",
       "\n",
       "                                         description  \n",
       "0  As her father nears the end of his life, filmm...  \n",
       "1  After crossing paths at a party, a Cape Town t...  \n",
       "2  To protect his family from a powerful drug lor...  \n",
       "3  Feuds, flirtations and toilet talk go down amo...  \n",
       "4  In a city of coaching centers known to train I...  "
      ]
     },
     "execution_count": 23,
     "metadata": {},
     "output_type": "execute_result"
    }
   ],
   "source": [
    "df.head() ## To check some exmaples and the column names"
   ]
  },
  {
   "cell_type": "code",
   "execution_count": null,
   "id": "ea781f18",
   "metadata": {},
   "outputs": [
    {
     "name": "stdout",
     "output_type": "stream",
     "text": [
      "<class 'pandas.core.frame.DataFrame'>\n",
      "RangeIndex: 8807 entries, 0 to 8806\n",
      "Data columns (total 12 columns):\n",
      " #   Column        Non-Null Count  Dtype \n",
      "---  ------        --------------  ----- \n",
      " 0   show_id       8807 non-null   object\n",
      " 1   type          8807 non-null   object\n",
      " 2   title         8807 non-null   object\n",
      " 3   director      6173 non-null   object\n",
      " 4   cast          7982 non-null   object\n",
      " 5   country       7976 non-null   object\n",
      " 6   date_added    8797 non-null   object\n",
      " 7   release_year  8807 non-null   int64 \n",
      " 8   rating        8803 non-null   object\n",
      " 9   duration      8804 non-null   object\n",
      " 10  listed_in     8807 non-null   object\n",
      " 11  description   8807 non-null   object\n",
      "dtypes: int64(1), object(11)\n",
      "memory usage: 825.8+ KB\n"
     ]
    }
   ],
   "source": [
    "df.info()  ## The data type of each column\n"
   ]
  },
  {
   "cell_type": "markdown",
   "id": "00012cb1",
   "metadata": {
    "slideshow": {
     "slide_type": "slide"
    }
   },
   "source": [
    "## Pandas I\n",
    "Let's do the following exercices:"
   ]
  },
  {
   "cell_type": "markdown",
   "id": "c004d747",
   "metadata": {},
   "source": [
    "1. Count Missing Values in Each Column"
   ]
  },
  {
   "cell_type": "code",
   "execution_count": 25,
   "id": "5a96a914",
   "metadata": {},
   "outputs": [
    {
     "name": "stdout",
     "output_type": "stream",
     "text": [
      "The following shows the number of missing values per column:\n",
      " show_id            0\n",
      "type               0\n",
      "title              0\n",
      "director        2634\n",
      "cast             825\n",
      "country          831\n",
      "date_added        10\n",
      "release_year       0\n",
      "rating             4\n",
      "duration           3\n",
      "listed_in          0\n",
      "description        0\n",
      "dtype: int64\n"
     ]
    }
   ],
   "source": [
    "missing_values = df.isnull().sum()   # Counting the missing values per column\n",
    "print(\"The following shows the number of missing values per column:\\n\", missing_values)"
   ]
  },
  {
   "cell_type": "markdown",
   "id": "a6d27e19",
   "metadata": {},
   "source": [
    "2. Fill Missing 'country' Values with \"Unknown\""
   ]
  },
  {
   "cell_type": "code",
   "execution_count": 29,
   "id": "b293b4af",
   "metadata": {},
   "outputs": [
    {
     "data": {
      "text/html": [
       "<div>\n",
       "<style scoped>\n",
       "    .dataframe tbody tr th:only-of-type {\n",
       "        vertical-align: middle;\n",
       "    }\n",
       "\n",
       "    .dataframe tbody tr th {\n",
       "        vertical-align: top;\n",
       "    }\n",
       "\n",
       "    .dataframe thead th {\n",
       "        text-align: right;\n",
       "    }\n",
       "</style>\n",
       "<table border=\"1\" class=\"dataframe\">\n",
       "  <thead>\n",
       "    <tr style=\"text-align: right;\">\n",
       "      <th></th>\n",
       "      <th>show_id</th>\n",
       "      <th>type</th>\n",
       "      <th>title</th>\n",
       "      <th>director</th>\n",
       "      <th>cast</th>\n",
       "      <th>country</th>\n",
       "      <th>date_added</th>\n",
       "      <th>release_year</th>\n",
       "      <th>rating</th>\n",
       "      <th>duration</th>\n",
       "      <th>listed_in</th>\n",
       "      <th>description</th>\n",
       "    </tr>\n",
       "  </thead>\n",
       "  <tbody>\n",
       "    <tr>\n",
       "      <th>0</th>\n",
       "      <td>s1</td>\n",
       "      <td>Movie</td>\n",
       "      <td>Dick Johnson Is Dead</td>\n",
       "      <td>Kirsten Johnson</td>\n",
       "      <td>NaN</td>\n",
       "      <td>United States</td>\n",
       "      <td>September 25, 2021</td>\n",
       "      <td>2020</td>\n",
       "      <td>PG-13</td>\n",
       "      <td>90 min</td>\n",
       "      <td>Documentaries</td>\n",
       "      <td>As her father nears the end of his life, filmm...</td>\n",
       "    </tr>\n",
       "    <tr>\n",
       "      <th>1</th>\n",
       "      <td>s2</td>\n",
       "      <td>TV Show</td>\n",
       "      <td>Blood &amp; Water</td>\n",
       "      <td>NaN</td>\n",
       "      <td>Ama Qamata, Khosi Ngema, Gail Mabalane, Thaban...</td>\n",
       "      <td>South Africa</td>\n",
       "      <td>September 24, 2021</td>\n",
       "      <td>2021</td>\n",
       "      <td>TV-MA</td>\n",
       "      <td>2 Seasons</td>\n",
       "      <td>International TV Shows, TV Dramas, TV Mysteries</td>\n",
       "      <td>After crossing paths at a party, a Cape Town t...</td>\n",
       "    </tr>\n",
       "    <tr>\n",
       "      <th>2</th>\n",
       "      <td>s3</td>\n",
       "      <td>TV Show</td>\n",
       "      <td>Ganglands</td>\n",
       "      <td>Julien Leclercq</td>\n",
       "      <td>Sami Bouajila, Tracy Gotoas, Samuel Jouy, Nabi...</td>\n",
       "      <td>Unknown</td>\n",
       "      <td>September 24, 2021</td>\n",
       "      <td>2021</td>\n",
       "      <td>TV-MA</td>\n",
       "      <td>1 Season</td>\n",
       "      <td>Crime TV Shows, International TV Shows, TV Act...</td>\n",
       "      <td>To protect his family from a powerful drug lor...</td>\n",
       "    </tr>\n",
       "    <tr>\n",
       "      <th>3</th>\n",
       "      <td>s4</td>\n",
       "      <td>TV Show</td>\n",
       "      <td>Jailbirds New Orleans</td>\n",
       "      <td>NaN</td>\n",
       "      <td>NaN</td>\n",
       "      <td>Unknown</td>\n",
       "      <td>September 24, 2021</td>\n",
       "      <td>2021</td>\n",
       "      <td>TV-MA</td>\n",
       "      <td>1 Season</td>\n",
       "      <td>Docuseries, Reality TV</td>\n",
       "      <td>Feuds, flirtations and toilet talk go down amo...</td>\n",
       "    </tr>\n",
       "    <tr>\n",
       "      <th>4</th>\n",
       "      <td>s5</td>\n",
       "      <td>TV Show</td>\n",
       "      <td>Kota Factory</td>\n",
       "      <td>NaN</td>\n",
       "      <td>Mayur More, Jitendra Kumar, Ranjan Raj, Alam K...</td>\n",
       "      <td>India</td>\n",
       "      <td>September 24, 2021</td>\n",
       "      <td>2021</td>\n",
       "      <td>TV-MA</td>\n",
       "      <td>2 Seasons</td>\n",
       "      <td>International TV Shows, Romantic TV Shows, TV ...</td>\n",
       "      <td>In a city of coaching centers known to train I...</td>\n",
       "    </tr>\n",
       "  </tbody>\n",
       "</table>\n",
       "</div>"
      ],
      "text/plain": [
       "  show_id     type                  title         director  \\\n",
       "0      s1    Movie   Dick Johnson Is Dead  Kirsten Johnson   \n",
       "1      s2  TV Show          Blood & Water              NaN   \n",
       "2      s3  TV Show              Ganglands  Julien Leclercq   \n",
       "3      s4  TV Show  Jailbirds New Orleans              NaN   \n",
       "4      s5  TV Show           Kota Factory              NaN   \n",
       "\n",
       "                                                cast        country  \\\n",
       "0                                                NaN  United States   \n",
       "1  Ama Qamata, Khosi Ngema, Gail Mabalane, Thaban...   South Africa   \n",
       "2  Sami Bouajila, Tracy Gotoas, Samuel Jouy, Nabi...        Unknown   \n",
       "3                                                NaN        Unknown   \n",
       "4  Mayur More, Jitendra Kumar, Ranjan Raj, Alam K...          India   \n",
       "\n",
       "           date_added  release_year rating   duration  \\\n",
       "0  September 25, 2021          2020  PG-13     90 min   \n",
       "1  September 24, 2021          2021  TV-MA  2 Seasons   \n",
       "2  September 24, 2021          2021  TV-MA   1 Season   \n",
       "3  September 24, 2021          2021  TV-MA   1 Season   \n",
       "4  September 24, 2021          2021  TV-MA  2 Seasons   \n",
       "\n",
       "                                           listed_in  \\\n",
       "0                                      Documentaries   \n",
       "1    International TV Shows, TV Dramas, TV Mysteries   \n",
       "2  Crime TV Shows, International TV Shows, TV Act...   \n",
       "3                             Docuseries, Reality TV   \n",
       "4  International TV Shows, Romantic TV Shows, TV ...   \n",
       "\n",
       "                                         description  \n",
       "0  As her father nears the end of his life, filmm...  \n",
       "1  After crossing paths at a party, a Cape Town t...  \n",
       "2  To protect his family from a powerful drug lor...  \n",
       "3  Feuds, flirtations and toilet talk go down amo...  \n",
       "4  In a city of coaching centers known to train I...  "
      ]
     },
     "execution_count": 29,
     "metadata": {},
     "output_type": "execute_result"
    }
   ],
   "source": [
    "df['country'] = df['country'].fillna(\"Unknown\")\n",
    "df.head()"
   ]
  },
  {
   "cell_type": "code",
   "execution_count": 30,
   "id": "58cdf29e",
   "metadata": {},
   "outputs": [
    {
     "name": "stdout",
     "output_type": "stream",
     "text": [
      "Now the missing values in the 'country' column are:\n",
      " 0\n"
     ]
    }
   ],
   "source": [
    "print(\"Now the missing values in the 'country' column are:\\n\", df['country'].isnull().sum()) ## To check if it worked"
   ]
  },
  {
   "cell_type": "markdown",
   "id": "dd589f65",
   "metadata": {},
   "source": [
    "3. Filter for TV Shows Only"
   ]
  },
  {
   "cell_type": "code",
   "execution_count": null,
   "id": "3a66f8d3",
   "metadata": {},
   "outputs": [
    {
     "name": "stdout",
     "output_type": "stream",
     "text": [
      "['Movie' 'TV Show']\n"
     ]
    }
   ],
   "source": [
    "unique_type_values = df['type'].unique()\n",
    "\n",
    "print(unique_type_values)  ## To check the unique values of this type column\n"
   ]
  },
  {
   "cell_type": "code",
   "execution_count": 92,
   "id": "20f9a415",
   "metadata": {},
   "outputs": [
    {
     "data": {
      "text/html": [
       "<div>\n",
       "<style scoped>\n",
       "    .dataframe tbody tr th:only-of-type {\n",
       "        vertical-align: middle;\n",
       "    }\n",
       "\n",
       "    .dataframe tbody tr th {\n",
       "        vertical-align: top;\n",
       "    }\n",
       "\n",
       "    .dataframe thead th {\n",
       "        text-align: right;\n",
       "    }\n",
       "</style>\n",
       "<table border=\"1\" class=\"dataframe\">\n",
       "  <thead>\n",
       "    <tr style=\"text-align: right;\">\n",
       "      <th></th>\n",
       "      <th>show_id</th>\n",
       "      <th>type</th>\n",
       "      <th>title</th>\n",
       "      <th>director</th>\n",
       "      <th>cast</th>\n",
       "      <th>country</th>\n",
       "      <th>date_added</th>\n",
       "      <th>release_year</th>\n",
       "      <th>rating</th>\n",
       "      <th>duration</th>\n",
       "      <th>listed_in</th>\n",
       "      <th>description</th>\n",
       "    </tr>\n",
       "  </thead>\n",
       "  <tbody>\n",
       "    <tr>\n",
       "      <th>1</th>\n",
       "      <td>s2</td>\n",
       "      <td>TV Show</td>\n",
       "      <td>Blood &amp; Water</td>\n",
       "      <td>NaN</td>\n",
       "      <td>Ama Qamata, Khosi Ngema, Gail Mabalane, Thaban...</td>\n",
       "      <td>South Africa</td>\n",
       "      <td>September 24, 2021</td>\n",
       "      <td>2021</td>\n",
       "      <td>TV-MA</td>\n",
       "      <td>2 Seasons</td>\n",
       "      <td>International TV Shows, TV Dramas, TV Mysteries</td>\n",
       "      <td>After crossing paths at a party, a Cape Town t...</td>\n",
       "    </tr>\n",
       "    <tr>\n",
       "      <th>2</th>\n",
       "      <td>s3</td>\n",
       "      <td>TV Show</td>\n",
       "      <td>Ganglands</td>\n",
       "      <td>Julien Leclercq</td>\n",
       "      <td>Sami Bouajila, Tracy Gotoas, Samuel Jouy, Nabi...</td>\n",
       "      <td>NaN</td>\n",
       "      <td>September 24, 2021</td>\n",
       "      <td>2021</td>\n",
       "      <td>TV-MA</td>\n",
       "      <td>1 Season</td>\n",
       "      <td>Crime TV Shows, International TV Shows, TV Act...</td>\n",
       "      <td>To protect his family from a powerful drug lor...</td>\n",
       "    </tr>\n",
       "    <tr>\n",
       "      <th>3</th>\n",
       "      <td>s4</td>\n",
       "      <td>TV Show</td>\n",
       "      <td>Jailbirds New Orleans</td>\n",
       "      <td>NaN</td>\n",
       "      <td>NaN</td>\n",
       "      <td>NaN</td>\n",
       "      <td>September 24, 2021</td>\n",
       "      <td>2021</td>\n",
       "      <td>TV-MA</td>\n",
       "      <td>1 Season</td>\n",
       "      <td>Docuseries, Reality TV</td>\n",
       "      <td>Feuds, flirtations and toilet talk go down amo...</td>\n",
       "    </tr>\n",
       "    <tr>\n",
       "      <th>4</th>\n",
       "      <td>s5</td>\n",
       "      <td>TV Show</td>\n",
       "      <td>Kota Factory</td>\n",
       "      <td>NaN</td>\n",
       "      <td>Mayur More, Jitendra Kumar, Ranjan Raj, Alam K...</td>\n",
       "      <td>India</td>\n",
       "      <td>September 24, 2021</td>\n",
       "      <td>2021</td>\n",
       "      <td>TV-MA</td>\n",
       "      <td>2 Seasons</td>\n",
       "      <td>International TV Shows, Romantic TV Shows, TV ...</td>\n",
       "      <td>In a city of coaching centers known to train I...</td>\n",
       "    </tr>\n",
       "    <tr>\n",
       "      <th>5</th>\n",
       "      <td>s6</td>\n",
       "      <td>TV Show</td>\n",
       "      <td>Midnight Mass</td>\n",
       "      <td>Mike Flanagan</td>\n",
       "      <td>Kate Siegel, Zach Gilford, Hamish Linklater, H...</td>\n",
       "      <td>NaN</td>\n",
       "      <td>September 24, 2021</td>\n",
       "      <td>2021</td>\n",
       "      <td>TV-MA</td>\n",
       "      <td>1 Season</td>\n",
       "      <td>TV Dramas, TV Horror, TV Mysteries</td>\n",
       "      <td>The arrival of a charismatic young priest brin...</td>\n",
       "    </tr>\n",
       "  </tbody>\n",
       "</table>\n",
       "</div>"
      ],
      "text/plain": [
       "  show_id     type                  title         director  \\\n",
       "1      s2  TV Show          Blood & Water              NaN   \n",
       "2      s3  TV Show              Ganglands  Julien Leclercq   \n",
       "3      s4  TV Show  Jailbirds New Orleans              NaN   \n",
       "4      s5  TV Show           Kota Factory              NaN   \n",
       "5      s6  TV Show          Midnight Mass    Mike Flanagan   \n",
       "\n",
       "                                                cast       country  \\\n",
       "1  Ama Qamata, Khosi Ngema, Gail Mabalane, Thaban...  South Africa   \n",
       "2  Sami Bouajila, Tracy Gotoas, Samuel Jouy, Nabi...           NaN   \n",
       "3                                                NaN           NaN   \n",
       "4  Mayur More, Jitendra Kumar, Ranjan Raj, Alam K...         India   \n",
       "5  Kate Siegel, Zach Gilford, Hamish Linklater, H...           NaN   \n",
       "\n",
       "           date_added  release_year rating   duration  \\\n",
       "1  September 24, 2021          2021  TV-MA  2 Seasons   \n",
       "2  September 24, 2021          2021  TV-MA   1 Season   \n",
       "3  September 24, 2021          2021  TV-MA   1 Season   \n",
       "4  September 24, 2021          2021  TV-MA  2 Seasons   \n",
       "5  September 24, 2021          2021  TV-MA   1 Season   \n",
       "\n",
       "                                           listed_in  \\\n",
       "1    International TV Shows, TV Dramas, TV Mysteries   \n",
       "2  Crime TV Shows, International TV Shows, TV Act...   \n",
       "3                             Docuseries, Reality TV   \n",
       "4  International TV Shows, Romantic TV Shows, TV ...   \n",
       "5                 TV Dramas, TV Horror, TV Mysteries   \n",
       "\n",
       "                                         description  \n",
       "1  After crossing paths at a party, a Cape Town t...  \n",
       "2  To protect his family from a powerful drug lor...  \n",
       "3  Feuds, flirtations and toilet talk go down amo...  \n",
       "4  In a city of coaching centers known to train I...  \n",
       "5  The arrival of a charismatic young priest brin...  "
      ]
     },
     "execution_count": 92,
     "metadata": {},
     "output_type": "execute_result"
    }
   ],
   "source": [
    "tv_shows = df[df['type'].str.contains(\"TV Show\")]\n",
    "tv_shows.head() "
   ]
  },
  {
   "cell_type": "markdown",
   "id": "ea809174",
   "metadata": {},
   "source": [
    "4. Count the Number of Entries per Rating"
   ]
  },
  {
   "cell_type": "code",
   "execution_count": 43,
   "id": "58e45971",
   "metadata": {},
   "outputs": [
    {
     "name": "stdout",
     "output_type": "stream",
     "text": [
      "Number of entries per rating:\n",
      " rating\n",
      "66 min         1\n",
      "74 min         1\n",
      "84 min         1\n",
      "G             41\n",
      "NC-17          3\n",
      "NR            80\n",
      "PG           287\n",
      "PG-13        490\n",
      "R            799\n",
      "TV-14       2160\n",
      "TV-G         220\n",
      "TV-MA       3207\n",
      "TV-PG        863\n",
      "TV-Y         307\n",
      "TV-Y7        334\n",
      "TV-Y7-FV       6\n",
      "UR             3\n",
      "Name: title, dtype: int64\n"
     ]
    }
   ],
   "source": [
    "print('Number of entries per rating:\\n',df.groupby('rating')['title'].count())"
   ]
  },
  {
   "cell_type": "markdown",
   "id": "624f7d1a",
   "metadata": {},
   "source": [
    "5. Add a Column Showing Content Age (how many years since it came out)"
   ]
  },
  {
   "cell_type": "code",
   "execution_count": null,
   "id": "e93b842b",
   "metadata": {},
   "outputs": [
    {
     "name": "stdout",
     "output_type": "stream",
     "text": [
      "                              title  release_year  content_age\n",
      "0              Dick Johnson Is Dead          2020            4\n",
      "1                     Blood & Water          2021            3\n",
      "2                         Ganglands          2021            3\n",
      "3             Jailbirds New Orleans          2021            3\n",
      "4                      Kota Factory          2021            3\n",
      "5                     Midnight Mass          2021            3\n",
      "6  My Little Pony: A New Generation          2021            3\n",
      "7                           Sankofa          1993           31\n",
      "8     The Great British Baking Show          2021            3\n",
      "9                      The Starling          2021            3\n"
     ]
    }
   ],
   "source": [
    "import datetime\n",
    "\n",
    "current_year = datetime.datetime.now().year  # Get the current year\n",
    "\n",
    "# Calculate the content age and add it as a new column\n",
    "df['content_age'] = current_year - df['release_year']\n",
    "\n",
    "print(df[['title', 'release_year', 'content_age']].head(10))\n"
   ]
  },
  {
   "cell_type": "markdown",
   "id": "0c2ab4b4",
   "metadata": {
    "slideshow": {
     "slide_type": "slide"
    },
    "tags": []
   },
   "source": [
    "## Pandas I\n",
    "\n",
    "Let's now load the *Titanic* dataset and practice a little bit more:\n",
    "\n"
   ]
  },
  {
   "cell_type": "code",
   "execution_count": 49,
   "id": "961a8ca7",
   "metadata": {
    "slideshow": {
     "slide_type": "subslide"
    }
   },
   "outputs": [
    {
     "data": {
      "text/plain": [
       "(1309, 28)"
      ]
     },
     "execution_count": 49,
     "metadata": {},
     "output_type": "execute_result"
    }
   ],
   "source": [
    "path = 'train_and_test2.csv'\n",
    "df = pd.read_csv(path)\n",
    "df.shape ## We check the shape of the dataframe"
   ]
  },
  {
   "cell_type": "code",
   "execution_count": 54,
   "id": "87723a35",
   "metadata": {},
   "outputs": [
    {
     "data": {
      "text/plain": [
       "Index(['Passengerid', 'Age', 'Fare', 'Sex', 'sibsp', 'zero', 'zero.1',\n",
       "       'zero.2', 'zero.3', 'zero.4', 'zero.5', 'zero.6', 'Parch', 'zero.7',\n",
       "       'zero.8', 'zero.9', 'zero.10', 'zero.11', 'zero.12', 'zero.13',\n",
       "       'zero.14', 'Pclass', 'zero.15', 'zero.16', 'Embarked', 'zero.17',\n",
       "       'zero.18', '2urvived'],\n",
       "      dtype='object')"
      ]
     },
     "execution_count": 54,
     "metadata": {},
     "output_type": "execute_result"
    }
   ],
   "source": [
    "df.columns"
   ]
  },
  {
   "cell_type": "markdown",
   "id": "86e80f07",
   "metadata": {},
   "source": [
    "1. Count the Missing Values in Each Column"
   ]
  },
  {
   "cell_type": "code",
   "execution_count": 51,
   "id": "9c24fcd6",
   "metadata": {},
   "outputs": [
    {
     "name": "stdout",
     "output_type": "stream",
     "text": [
      "The total number of missing values in the dataset: 2\n"
     ]
    }
   ],
   "source": [
    "# Counting the total number of missing values in the entire dataset\n",
    "total_missing_values = df.isnull().sum().sum()\n",
    "\n",
    "print(\"The total number of missing values in the dataset:\", total_missing_values)\n"
   ]
  },
  {
   "cell_type": "code",
   "execution_count": 52,
   "id": "385d8ddf",
   "metadata": {},
   "outputs": [
    {
     "name": "stdout",
     "output_type": "stream",
     "text": [
      "The following shows the columns with missing values:\n",
      " Embarked    2\n",
      "dtype: int64\n"
     ]
    }
   ],
   "source": [
    "missing_values = df.isnull().sum()   # Counting the missing values per column\n",
    "print(\"The following shows the columns with missing values:\\n\", missing_values[missing_values > 0])\n"
   ]
  },
  {
   "cell_type": "markdown",
   "id": "688f1f6a",
   "metadata": {},
   "source": [
    "2. Fill Missing 'Age' Values with the Mean Age"
   ]
  },
  {
   "cell_type": "code",
   "execution_count": 68,
   "id": "cd151901",
   "metadata": {},
   "outputs": [
    {
     "name": "stdout",
     "output_type": "stream",
     "text": [
      "The mean of the 'Age' column is: 29.50318563789152\n",
      "Missing values in 'Age' column after filling: 0\n"
     ]
    }
   ],
   "source": [
    "mean_age = df['Age'].mean()\n",
    "print(\"The mean of the 'Age' column is:\", mean_age)\n",
    "\n",
    "# Filling the missing values with the mean age using the correct method\n",
    "df.fillna({'Age': mean_age}, inplace=True)\n",
    "\n",
    "print(\"Missing values in 'Age' column after filling:\", df['Age'].isnull().sum())\n"
   ]
  },
  {
   "cell_type": "markdown",
   "id": "58625d31",
   "metadata": {},
   "source": [
    "3. Fill Missing 'Embarked' Values with the Mode (Most Common Value)"
   ]
  },
  {
   "cell_type": "code",
   "execution_count": 69,
   "id": "6ef38589",
   "metadata": {},
   "outputs": [
    {
     "name": "stdout",
     "output_type": "stream",
     "text": [
      "The mode of the 'Embarked' column is: 2.0\n",
      "Missing values in 'Embarked' column after filling: 0\n"
     ]
    }
   ],
   "source": [
    "mode_embarked = df['Embarked'].mode()[0]\n",
    "print(\"The mode of the 'Embarked' column is:\", mode_embarked)\n",
    "# Filling the missing values with the mode\n",
    "df.fillna({'Embarked': mode_embarked}, inplace=True)\n",
    "\n",
    "print(\"Missing values in 'Embarked' column after filling:\", df['Embarked'].isnull().sum())\n"
   ]
  },
  {
   "cell_type": "markdown",
   "id": "06e96c41",
   "metadata": {},
   "source": [
    "4. Filter and Display Passengers Who Paid a Fare Above the Average Fare"
   ]
  },
  {
   "cell_type": "code",
   "execution_count": null,
   "id": "b3bcb51e",
   "metadata": {},
   "outputs": [
    {
     "data": {
      "text/html": [
       "<div>\n",
       "<style scoped>\n",
       "    .dataframe tbody tr th:only-of-type {\n",
       "        vertical-align: middle;\n",
       "    }\n",
       "\n",
       "    .dataframe tbody tr th {\n",
       "        vertical-align: top;\n",
       "    }\n",
       "\n",
       "    .dataframe thead th {\n",
       "        text-align: right;\n",
       "    }\n",
       "</style>\n",
       "<table border=\"1\" class=\"dataframe\">\n",
       "  <thead>\n",
       "    <tr style=\"text-align: right;\">\n",
       "      <th></th>\n",
       "      <th>Passengerid</th>\n",
       "      <th>Age</th>\n",
       "      <th>Fare</th>\n",
       "      <th>Sex</th>\n",
       "      <th>sibsp</th>\n",
       "      <th>zero</th>\n",
       "      <th>zero.1</th>\n",
       "      <th>zero.2</th>\n",
       "      <th>zero.3</th>\n",
       "      <th>zero.4</th>\n",
       "      <th>...</th>\n",
       "      <th>zero.12</th>\n",
       "      <th>zero.13</th>\n",
       "      <th>zero.14</th>\n",
       "      <th>Pclass</th>\n",
       "      <th>zero.15</th>\n",
       "      <th>zero.16</th>\n",
       "      <th>Embarked</th>\n",
       "      <th>zero.17</th>\n",
       "      <th>zero.18</th>\n",
       "      <th>2urvived</th>\n",
       "    </tr>\n",
       "  </thead>\n",
       "  <tbody>\n",
       "    <tr>\n",
       "      <th>1</th>\n",
       "      <td>2</td>\n",
       "      <td>38.0</td>\n",
       "      <td>71.2833</td>\n",
       "      <td>1</td>\n",
       "      <td>1</td>\n",
       "      <td>0</td>\n",
       "      <td>0</td>\n",
       "      <td>0</td>\n",
       "      <td>0</td>\n",
       "      <td>0</td>\n",
       "      <td>...</td>\n",
       "      <td>0</td>\n",
       "      <td>0</td>\n",
       "      <td>0</td>\n",
       "      <td>1</td>\n",
       "      <td>0</td>\n",
       "      <td>0</td>\n",
       "      <td>0.0</td>\n",
       "      <td>0</td>\n",
       "      <td>0</td>\n",
       "      <td>1</td>\n",
       "    </tr>\n",
       "    <tr>\n",
       "      <th>3</th>\n",
       "      <td>4</td>\n",
       "      <td>35.0</td>\n",
       "      <td>53.1000</td>\n",
       "      <td>1</td>\n",
       "      <td>1</td>\n",
       "      <td>0</td>\n",
       "      <td>0</td>\n",
       "      <td>0</td>\n",
       "      <td>0</td>\n",
       "      <td>0</td>\n",
       "      <td>...</td>\n",
       "      <td>0</td>\n",
       "      <td>0</td>\n",
       "      <td>0</td>\n",
       "      <td>1</td>\n",
       "      <td>0</td>\n",
       "      <td>0</td>\n",
       "      <td>2.0</td>\n",
       "      <td>0</td>\n",
       "      <td>0</td>\n",
       "      <td>1</td>\n",
       "    </tr>\n",
       "    <tr>\n",
       "      <th>6</th>\n",
       "      <td>7</td>\n",
       "      <td>54.0</td>\n",
       "      <td>51.8625</td>\n",
       "      <td>0</td>\n",
       "      <td>0</td>\n",
       "      <td>0</td>\n",
       "      <td>0</td>\n",
       "      <td>0</td>\n",
       "      <td>0</td>\n",
       "      <td>0</td>\n",
       "      <td>...</td>\n",
       "      <td>0</td>\n",
       "      <td>0</td>\n",
       "      <td>0</td>\n",
       "      <td>1</td>\n",
       "      <td>0</td>\n",
       "      <td>0</td>\n",
       "      <td>2.0</td>\n",
       "      <td>0</td>\n",
       "      <td>0</td>\n",
       "      <td>0</td>\n",
       "    </tr>\n",
       "    <tr>\n",
       "      <th>23</th>\n",
       "      <td>24</td>\n",
       "      <td>28.0</td>\n",
       "      <td>35.5000</td>\n",
       "      <td>0</td>\n",
       "      <td>0</td>\n",
       "      <td>0</td>\n",
       "      <td>0</td>\n",
       "      <td>0</td>\n",
       "      <td>0</td>\n",
       "      <td>0</td>\n",
       "      <td>...</td>\n",
       "      <td>0</td>\n",
       "      <td>0</td>\n",
       "      <td>0</td>\n",
       "      <td>1</td>\n",
       "      <td>0</td>\n",
       "      <td>0</td>\n",
       "      <td>2.0</td>\n",
       "      <td>0</td>\n",
       "      <td>0</td>\n",
       "      <td>1</td>\n",
       "    </tr>\n",
       "    <tr>\n",
       "      <th>27</th>\n",
       "      <td>28</td>\n",
       "      <td>19.0</td>\n",
       "      <td>263.0000</td>\n",
       "      <td>0</td>\n",
       "      <td>3</td>\n",
       "      <td>0</td>\n",
       "      <td>0</td>\n",
       "      <td>0</td>\n",
       "      <td>0</td>\n",
       "      <td>0</td>\n",
       "      <td>...</td>\n",
       "      <td>0</td>\n",
       "      <td>0</td>\n",
       "      <td>0</td>\n",
       "      <td>1</td>\n",
       "      <td>0</td>\n",
       "      <td>0</td>\n",
       "      <td>2.0</td>\n",
       "      <td>0</td>\n",
       "      <td>0</td>\n",
       "      <td>0</td>\n",
       "    </tr>\n",
       "    <tr>\n",
       "      <th>...</th>\n",
       "      <td>...</td>\n",
       "      <td>...</td>\n",
       "      <td>...</td>\n",
       "      <td>...</td>\n",
       "      <td>...</td>\n",
       "      <td>...</td>\n",
       "      <td>...</td>\n",
       "      <td>...</td>\n",
       "      <td>...</td>\n",
       "      <td>...</td>\n",
       "      <td>...</td>\n",
       "      <td>...</td>\n",
       "      <td>...</td>\n",
       "      <td>...</td>\n",
       "      <td>...</td>\n",
       "      <td>...</td>\n",
       "      <td>...</td>\n",
       "      <td>...</td>\n",
       "      <td>...</td>\n",
       "      <td>...</td>\n",
       "      <td>...</td>\n",
       "    </tr>\n",
       "    <tr>\n",
       "      <th>1293</th>\n",
       "      <td>1294</td>\n",
       "      <td>22.0</td>\n",
       "      <td>59.4000</td>\n",
       "      <td>1</td>\n",
       "      <td>0</td>\n",
       "      <td>0</td>\n",
       "      <td>0</td>\n",
       "      <td>0</td>\n",
       "      <td>0</td>\n",
       "      <td>0</td>\n",
       "      <td>...</td>\n",
       "      <td>0</td>\n",
       "      <td>0</td>\n",
       "      <td>0</td>\n",
       "      <td>1</td>\n",
       "      <td>0</td>\n",
       "      <td>0</td>\n",
       "      <td>0.0</td>\n",
       "      <td>0</td>\n",
       "      <td>0</td>\n",
       "      <td>0</td>\n",
       "    </tr>\n",
       "    <tr>\n",
       "      <th>1294</th>\n",
       "      <td>1295</td>\n",
       "      <td>17.0</td>\n",
       "      <td>47.1000</td>\n",
       "      <td>0</td>\n",
       "      <td>0</td>\n",
       "      <td>0</td>\n",
       "      <td>0</td>\n",
       "      <td>0</td>\n",
       "      <td>0</td>\n",
       "      <td>0</td>\n",
       "      <td>...</td>\n",
       "      <td>0</td>\n",
       "      <td>0</td>\n",
       "      <td>0</td>\n",
       "      <td>1</td>\n",
       "      <td>0</td>\n",
       "      <td>0</td>\n",
       "      <td>2.0</td>\n",
       "      <td>0</td>\n",
       "      <td>0</td>\n",
       "      <td>0</td>\n",
       "    </tr>\n",
       "    <tr>\n",
       "      <th>1298</th>\n",
       "      <td>1299</td>\n",
       "      <td>50.0</td>\n",
       "      <td>211.5000</td>\n",
       "      <td>0</td>\n",
       "      <td>1</td>\n",
       "      <td>0</td>\n",
       "      <td>0</td>\n",
       "      <td>0</td>\n",
       "      <td>0</td>\n",
       "      <td>0</td>\n",
       "      <td>...</td>\n",
       "      <td>0</td>\n",
       "      <td>0</td>\n",
       "      <td>0</td>\n",
       "      <td>1</td>\n",
       "      <td>0</td>\n",
       "      <td>0</td>\n",
       "      <td>0.0</td>\n",
       "      <td>0</td>\n",
       "      <td>0</td>\n",
       "      <td>0</td>\n",
       "    </tr>\n",
       "    <tr>\n",
       "      <th>1302</th>\n",
       "      <td>1303</td>\n",
       "      <td>37.0</td>\n",
       "      <td>90.0000</td>\n",
       "      <td>1</td>\n",
       "      <td>1</td>\n",
       "      <td>0</td>\n",
       "      <td>0</td>\n",
       "      <td>0</td>\n",
       "      <td>0</td>\n",
       "      <td>0</td>\n",
       "      <td>...</td>\n",
       "      <td>0</td>\n",
       "      <td>0</td>\n",
       "      <td>0</td>\n",
       "      <td>1</td>\n",
       "      <td>0</td>\n",
       "      <td>0</td>\n",
       "      <td>1.0</td>\n",
       "      <td>0</td>\n",
       "      <td>0</td>\n",
       "      <td>0</td>\n",
       "    </tr>\n",
       "    <tr>\n",
       "      <th>1305</th>\n",
       "      <td>1306</td>\n",
       "      <td>39.0</td>\n",
       "      <td>108.9000</td>\n",
       "      <td>1</td>\n",
       "      <td>0</td>\n",
       "      <td>0</td>\n",
       "      <td>0</td>\n",
       "      <td>0</td>\n",
       "      <td>0</td>\n",
       "      <td>0</td>\n",
       "      <td>...</td>\n",
       "      <td>0</td>\n",
       "      <td>0</td>\n",
       "      <td>0</td>\n",
       "      <td>1</td>\n",
       "      <td>0</td>\n",
       "      <td>0</td>\n",
       "      <td>0.0</td>\n",
       "      <td>0</td>\n",
       "      <td>0</td>\n",
       "      <td>0</td>\n",
       "    </tr>\n",
       "  </tbody>\n",
       "</table>\n",
       "<p>304 rows × 28 columns</p>\n",
       "</div>"
      ],
      "text/plain": [
       "      Passengerid   Age      Fare  Sex  sibsp  zero  zero.1  zero.2  zero.3  \\\n",
       "1               2  38.0   71.2833    1      1     0       0       0       0   \n",
       "3               4  35.0   53.1000    1      1     0       0       0       0   \n",
       "6               7  54.0   51.8625    0      0     0       0       0       0   \n",
       "23             24  28.0   35.5000    0      0     0       0       0       0   \n",
       "27             28  19.0  263.0000    0      3     0       0       0       0   \n",
       "...           ...   ...       ...  ...    ...   ...     ...     ...     ...   \n",
       "1293         1294  22.0   59.4000    1      0     0       0       0       0   \n",
       "1294         1295  17.0   47.1000    0      0     0       0       0       0   \n",
       "1298         1299  50.0  211.5000    0      1     0       0       0       0   \n",
       "1302         1303  37.0   90.0000    1      1     0       0       0       0   \n",
       "1305         1306  39.0  108.9000    1      0     0       0       0       0   \n",
       "\n",
       "      zero.4  ...  zero.12  zero.13  zero.14  Pclass  zero.15  zero.16  \\\n",
       "1          0  ...        0        0        0       1        0        0   \n",
       "3          0  ...        0        0        0       1        0        0   \n",
       "6          0  ...        0        0        0       1        0        0   \n",
       "23         0  ...        0        0        0       1        0        0   \n",
       "27         0  ...        0        0        0       1        0        0   \n",
       "...      ...  ...      ...      ...      ...     ...      ...      ...   \n",
       "1293       0  ...        0        0        0       1        0        0   \n",
       "1294       0  ...        0        0        0       1        0        0   \n",
       "1298       0  ...        0        0        0       1        0        0   \n",
       "1302       0  ...        0        0        0       1        0        0   \n",
       "1305       0  ...        0        0        0       1        0        0   \n",
       "\n",
       "      Embarked  zero.17  zero.18  2urvived  \n",
       "1          0.0        0        0         1  \n",
       "3          2.0        0        0         1  \n",
       "6          2.0        0        0         0  \n",
       "23         2.0        0        0         1  \n",
       "27         2.0        0        0         0  \n",
       "...        ...      ...      ...       ...  \n",
       "1293       0.0        0        0         0  \n",
       "1294       2.0        0        0         0  \n",
       "1298       0.0        0        0         0  \n",
       "1302       1.0        0        0         0  \n",
       "1305       0.0        0        0         0  \n",
       "\n",
       "[304 rows x 28 columns]"
      ]
     },
     "execution_count": 72,
     "metadata": {},
     "output_type": "execute_result"
    }
   ],
   "source": [
    "average_fare = df['Fare'].mean()\n",
    "\n",
    "# Filtering the DataFrame for passengers who paid above the average fare\n",
    "above_average_fare = df[df['Fare'] > average_fare]\n",
    "\n",
    "# Display the filtered DataFrame\n",
    "above_average_fare"
   ]
  },
  {
   "cell_type": "markdown",
   "id": "130dd3a8",
   "metadata": {},
   "source": [
    "5. Add a New Column Indicating Family Size. Create a new column 'FamilySize' as the sum of 'SibSp' (siblings/spouses) and 'Parch' (parents/children)"
   ]
  },
  {
   "cell_type": "code",
   "execution_count": 82,
   "id": "834a2ead",
   "metadata": {},
   "outputs": [
    {
     "data": {
      "text/html": [
       "<div>\n",
       "<style scoped>\n",
       "    .dataframe tbody tr th:only-of-type {\n",
       "        vertical-align: middle;\n",
       "    }\n",
       "\n",
       "    .dataframe tbody tr th {\n",
       "        vertical-align: top;\n",
       "    }\n",
       "\n",
       "    .dataframe thead th {\n",
       "        text-align: right;\n",
       "    }\n",
       "</style>\n",
       "<table border=\"1\" class=\"dataframe\">\n",
       "  <thead>\n",
       "    <tr style=\"text-align: right;\">\n",
       "      <th></th>\n",
       "      <th>Passengerid</th>\n",
       "      <th>Fare</th>\n",
       "      <th>Sex</th>\n",
       "      <th>sibsp</th>\n",
       "      <th>Parch</th>\n",
       "      <th>FamilySize</th>\n",
       "    </tr>\n",
       "  </thead>\n",
       "  <tbody>\n",
       "    <tr>\n",
       "      <th>0</th>\n",
       "      <td>1</td>\n",
       "      <td>7.2500</td>\n",
       "      <td>0</td>\n",
       "      <td>1</td>\n",
       "      <td>0</td>\n",
       "      <td>1</td>\n",
       "    </tr>\n",
       "    <tr>\n",
       "      <th>1</th>\n",
       "      <td>2</td>\n",
       "      <td>71.2833</td>\n",
       "      <td>1</td>\n",
       "      <td>1</td>\n",
       "      <td>0</td>\n",
       "      <td>1</td>\n",
       "    </tr>\n",
       "    <tr>\n",
       "      <th>2</th>\n",
       "      <td>3</td>\n",
       "      <td>7.9250</td>\n",
       "      <td>1</td>\n",
       "      <td>0</td>\n",
       "      <td>0</td>\n",
       "      <td>0</td>\n",
       "    </tr>\n",
       "    <tr>\n",
       "      <th>3</th>\n",
       "      <td>4</td>\n",
       "      <td>53.1000</td>\n",
       "      <td>1</td>\n",
       "      <td>1</td>\n",
       "      <td>0</td>\n",
       "      <td>1</td>\n",
       "    </tr>\n",
       "    <tr>\n",
       "      <th>4</th>\n",
       "      <td>5</td>\n",
       "      <td>8.0500</td>\n",
       "      <td>0</td>\n",
       "      <td>0</td>\n",
       "      <td>0</td>\n",
       "      <td>0</td>\n",
       "    </tr>\n",
       "  </tbody>\n",
       "</table>\n",
       "</div>"
      ],
      "text/plain": [
       "   Passengerid     Fare  Sex  sibsp  Parch  FamilySize\n",
       "0            1   7.2500    0      1      0           1\n",
       "1            2  71.2833    1      1      0           1\n",
       "2            3   7.9250    1      0      0           0\n",
       "3            4  53.1000    1      1      0           1\n",
       "4            5   8.0500    0      0      0           0"
      ]
     },
     "execution_count": 82,
     "metadata": {},
     "output_type": "execute_result"
    }
   ],
   "source": [
    "# Creating a new column 'FamilySize' as the sum of 'SibSp' and 'Parch'\n",
    "df['FamilySize'] = df['sibsp'] + df['Parch']\n",
    "\n",
    "# Displaying the first few rows of the DataFrame to verify the new column\n",
    "df[['Passengerid','Fare', 'Sex', 'sibsp','Parch', 'FamilySize']].head(5)"
   ]
  },
  {
   "cell_type": "markdown",
   "id": "ae883a57",
   "metadata": {
    "slideshow": {
     "slide_type": "slide"
    }
   },
   "source": [
    "## Pandas I\n",
    "\n",
    "Home exercises for Netflix:\n",
    "\n",
    "1. Is there any missing rating?"
   ]
  },
  {
   "cell_type": "code",
   "execution_count": 88,
   "id": "d05c4735",
   "metadata": {},
   "outputs": [],
   "source": [
    "path = 'netflix_titles.csv'  ## check that the path is correct in your device (pwd)\n",
    "\n",
    "df = pd.read_csv(path)"
   ]
  },
  {
   "cell_type": "code",
   "execution_count": 87,
   "id": "2be023fd",
   "metadata": {},
   "outputs": [
    {
     "name": "stdout",
     "output_type": "stream",
     "text": [
      "Yes, there are 4 missing ratings.\n"
     ]
    }
   ],
   "source": [
    "missing_ratings = df['rating'].isnull().sum()\n",
    "\n",
    "if missing_ratings > 0:\n",
    "    print(f\"Yes, there are {missing_ratings} missing ratings.\")\n",
    "else:\n",
    "    print(\"No, there are no missing ratings.\")\n"
   ]
  },
  {
   "cell_type": "markdown",
   "id": "3856a26b",
   "metadata": {},
   "source": [
    "2. How many films in 2021 correspond to your country?"
   ]
  },
  {
   "cell_type": "code",
   "execution_count": null,
   "id": "08037e7e",
   "metadata": {},
   "outputs": [
    {
     "name": "stdout",
     "output_type": "stream",
     "text": [
      "There are 2 films from 2021 that correspond to Argentina.\n"
     ]
    }
   ],
   "source": [
    "# Filtering the DataFrame for films released in 2021 and country containing Argentina\n",
    "argentina_films_2021 = df[(df['type'] == 'Movie') & (df['release_year'] == 2021) & (df['country'].str.contains('Argentina', na=False))]\n",
    "\n",
    "number_of_films = argentina_films_2021.shape[0] # Counting the number of films\n",
    "\n",
    "print(f\"There are {number_of_films} films from 2021 that correspond to Argentina.\")\n",
    "\n"
   ]
  },
  {
   "cell_type": "markdown",
   "id": "bddaee90",
   "metadata": {},
   "source": [
    "3. What's the number of movies in 2020 with full information?"
   ]
  },
  {
   "cell_type": "code",
   "execution_count": 102,
   "id": "a34f8fd3",
   "metadata": {},
   "outputs": [
    {
     "name": "stdout",
     "output_type": "stream",
     "text": [
      "The number of movies in 2020 with full information is: 409\n"
     ]
    }
   ],
   "source": [
    "# Filtering the DataFrame for movies released in 2020\n",
    "movies_2020 = df[(df['release_year'] == 2020) & (df['type'] == 'Movie')]\n",
    "\n",
    "movies_2020_full_info = movies_2020.dropna() # Filtering further to include only rows with no missing values\n",
    "\n",
    "number_of_movies_full_info = movies_2020_full_info.shape[0]\n",
    "\n",
    "print(f\"The number of movies in 2020 with full information is: {number_of_movies_full_info}\")\n"
   ]
  },
  {
   "cell_type": "markdown",
   "id": "769280b6",
   "metadata": {},
   "source": [
    "4. Give me the year with more titles.\n"
   ]
  },
  {
   "cell_type": "code",
   "execution_count": 106,
   "id": "627e13dd",
   "metadata": {},
   "outputs": [
    {
     "name": "stdout",
     "output_type": "stream",
     "text": [
      "The year with the most titles is 2018, with 1147 titles.\n"
     ]
    }
   ],
   "source": [
    "titles_per_year = df['release_year'].value_counts()\n",
    "\n",
    "print(f\"The year with the most titles is {titles_per_year.idxmax()}, with {titles_per_year.max()} titles.\")\n"
   ]
  },
  {
   "cell_type": "markdown",
   "id": "c68d5386",
   "metadata": {},
   "source": [
    "5. and what has been the average in terms of releases from 2010. "
   ]
  },
  {
   "cell_type": "code",
   "execution_count": null,
   "id": "02ac36eb",
   "metadata": {},
   "outputs": [
    {
     "name": "stdout",
     "output_type": "stream",
     "text": [
      "The average number of releases per year from 2010 is: 622.67\n"
     ]
    }
   ],
   "source": [
    "releases_from_2010 = df[df['release_year'] >= 2010]\n",
    "\n",
    "# Grouping by 'release_year' and counting the number of titles per year\n",
    "titles_per_year = releases_from_2010['release_year'].value_counts()\n",
    "\n",
    "average_releases = titles_per_year.mean() # Calculating the average number of releases per year from 2010\n",
    "\n",
    "print(f\"The average number of releases per year from 2010 is: {average_releases:.2f}\")\n"
   ]
  },
  {
   "cell_type": "markdown",
   "id": "e2812535",
   "metadata": {},
   "source": [
    "And for Titanic:\n",
    "\n",
    "1. Calculate Gender-Based Survival Percentage"
   ]
  },
  {
   "cell_type": "code",
   "execution_count": 138,
   "id": "343eb1d6",
   "metadata": {},
   "outputs": [
    {
     "data": {
      "text/plain": [
       "(1309, 28)"
      ]
     },
     "execution_count": 138,
     "metadata": {},
     "output_type": "execute_result"
    }
   ],
   "source": [
    "path = 'train_and_test2.csv'\n",
    "df = pd.read_csv(path)\n",
    "df.shape"
   ]
  },
  {
   "cell_type": "code",
   "execution_count": 142,
   "id": "85505efe",
   "metadata": {},
   "outputs": [
    {
     "name": "stdout",
     "output_type": "stream",
     "text": [
      "Gender-Based Survival Percentage:\n",
      " Sex\n",
      "female     50.0%\n",
      "male      12.93%\n",
      "dtype: object\n"
     ]
    }
   ],
   "source": [
    "# We create a copy of the DataFrame to not modify the original\n",
    "df_copy = df.copy()\n",
    "df_copy['Sex'] = df['Sex'].map({0: 'male', 1: 'female'})\n",
    "\n",
    "survivors_by_gender = df_copy.groupby('Sex')['2urvived'].sum() # Calculate the number of survivors by gender\n",
    "\n",
    "total_by_gender = df_copy['Sex'].value_counts()\n",
    "\n",
    "survival_percentage_by_gender = (survivors_by_gender / total_by_gender) * 100 # Calculate the survival percentage by gender\n",
    "\n",
    "print(\"Gender-Based Survival Percentage:\\n\", survival_percentage_by_gender.round(2).astype(str) + '%')"
   ]
  },
  {
   "cell_type": "code",
   "execution_count": 147,
   "id": "a0907a86",
   "metadata": {},
   "outputs": [
    {
     "data": {
      "image/png": "[encoded data removed]",
      "text/plain": [
       "<Figure size 700x400 with 2 Axes>"
      ]
     },
     "metadata": {},
     "output_type": "display_data"
    }
   ],
   "source": [
    "import matplotlib.pyplot as plt\n",
    "\n",
    "# Data for pie charts\n",
    "labels = ['Survived', 'Did Not Survive']\n",
    "colors = ['#4CAF50', '#FF5722']\n",
    "\n",
    "# Male survival data\n",
    "male_survived = [survivors_by_gender['male'], total_by_gender['male'] - survivors_by_gender['male']]\n",
    "female_survived = [survivors_by_gender['female'], total_by_gender['female'] - survivors_by_gender['female']]\n",
    "\n",
    "fig, ax = plt.subplots(1, 2, figsize=(7, 4))\n",
    "\n",
    "# Pie chart for males\n",
    "ax[0].pie(male_survived, labels=labels, colors=colors, autopct='%1.1f%%', startangle=90)\n",
    "ax[0].set_title('Survival Percentage for Men')\n",
    "\n",
    "# Pie chart for females\n",
    "ax[1].pie(female_survived, labels=labels, colors=colors, autopct='%1.1f%%', startangle=90)\n",
    "ax[1].set_title('Survival Percentage for Women')\n",
    "\n",
    "# Display the plot\n",
    "plt.show()\n"
   ]
  },
  {
   "cell_type": "markdown",
   "id": "d045c484",
   "metadata": {},
   "source": [
    "2. Calculate Survival Percentage Grouped by Gender and Class"
   ]
  },
  {
   "cell_type": "code",
   "execution_count": 149,
   "id": "d945ac92",
   "metadata": {},
   "outputs": [
    {
     "name": "stdout",
     "output_type": "stream",
     "text": [
      "Survival Percentage Grouped by Gender and Class:\n",
      " Sex     Pclass\n",
      "female  1         63.19%\n",
      "        2         66.04%\n",
      "        3         33.33%\n",
      "male    1         25.14%\n",
      "        2          9.94%\n",
      "        3          9.53%\n",
      "Name: 2urvived, dtype: object\n"
     ]
    }
   ],
   "source": [
    "df_copy = df.copy()\n",
    "df_copy['Sex'] = df_copy['Sex'].map({0: 'male', 1: 'female'})\n",
    "\n",
    "# Group by 'Sex' and 'Pclass' and calculate the mean survival rate\n",
    "survival_percentage_grouped = df_copy.groupby(['Sex', 'Pclass'])['2urvived'].mean() * 100\n",
    "\n",
    "# Formatting the percentages\n",
    "survival_percentage_grouped = survival_percentage_grouped.round(2).astype(str) + '%'\n",
    "\n",
    "print(\"Survival Percentage Grouped by Gender and Class:\\n\", survival_percentage_grouped)\n"
   ]
  },
  {
   "cell_type": "markdown",
   "id": "6a1d74f8",
   "metadata": {},
   "source": [
    "# Extra"
   ]
  },
  {
   "cell_type": "code",
   "execution_count": 161,
   "id": "6b39354d",
   "metadata": {},
   "outputs": [
    {
     "data": {
      "image/png": "[encoded data removed]",
      "text/plain": [
       "<Figure size 800x400 with 2 Axes>"
      ]
     },
     "metadata": {},
     "output_type": "display_data"
    }
   ],
   "source": [
    "import matplotlib.pyplot as plt\n",
    "import numpy as np\n",
    "\n",
    "non_survival_percentage_grouped = 100 - survival_percentage_grouped\n",
    "\n",
    "fig, ax = plt.subplots(1, 2, figsize=(8, 4))\n",
    "labels = ['1st Class', '2nd Class', '3rd Class']\n",
    "colors = ['#4CAF50', '#FF5722']\n",
    "\n",
    "# Data for men\n",
    "men_survival = survival_percentage_grouped['male']\n",
    "men_non_survival = non_survival_percentage_grouped['male']\n",
    "\n",
    "# Data for women\n",
    "women_survival = survival_percentage_grouped['female']\n",
    "women_non_survival = non_survival_percentage_grouped['female']\n",
    "\n",
    "# Create bars for men\n",
    "width = 0.35\n",
    "indices = np.arange(len(labels))\n",
    "bar1 = ax[0].bar(indices, men_survival, width, label='Survived', color=colors[0])\n",
    "bar2 = ax[0].bar(indices, men_non_survival, width, bottom=men_survival, label='Did Not Survive', color=colors[1])\n",
    "\n",
    "# Adding labels and title\n",
    "ax[0].set_title('Survival Percentage by Class for Men')\n",
    "ax[0].set_xlabel('Class')\n",
    "ax[0].set_ylabel('Percentage')\n",
    "ax[0].set_xticks(indices)\n",
    "ax[0].set_xticklabels(labels)\n",
    "ax[0].set_ylim(0, 100)\n",
    "ax[0].legend()\n",
    "\n",
    "# Create bars for women\n",
    "bar3 = ax[1].bar(indices, women_survival, width, label='Survived', color=colors[0])\n",
    "bar4 = ax[1].bar(indices, women_non_survival, width, bottom=women_survival, label='Did Not Survive', color=colors[1])\n",
    "\n",
    "# Adding labels and title\n",
    "ax[1].set_title('Survival Percentage by Class for Women')\n",
    "ax[1].set_xlabel('Class')\n",
    "ax[1].set_ylabel('Percentage')\n",
    "ax[1].set_xticks(indices)\n",
    "ax[1].set_xticklabels(labels)\n",
    "ax[1].set_ylim(0, 100)\n",
    "ax[1].legend()\n",
    "\n",
    "# Add labels to the bars with smaller font size\n",
    "for rect in bar1 + bar2:\n",
    "    height = rect.get_height()\n",
    "    ax[0].text(rect.get_x() + rect.get_width() / 2.0, rect.get_y() + height / 2.0, f'{height:.1f}%', ha='center', va='center', color='black', fontsize=7)\n",
    "\n",
    "for rect in bar3 + bar4:\n",
    "    height = rect.get_height()\n",
    "    ax[1].text(rect.get_x() + rect.get_width() / 2.0, rect.get_y() + height / 2.0, f'{height:.1f}%', ha='center', va='center', color='black', fontsize=7)\n",
    "\n",
    "plt.tight_layout()\n",
    "plt.show()\n"
   ]
  }
 ],
 "metadata": {
  "celltoolbar": "Slideshow",
  "kernelspec": {
   "display_name": "Python 3",
   "language": "python",
   "name": "python3"
  },
  "language_info": {
   "codemirror_mode": {
    "name": "ipython",
    "version": 3
   },
   "file_extension": ".py",
   "mimetype": "text/x-python",
   "name": "python",
   "nbconvert_exporter": "python",
   "pygments_lexer": "ipython3",
   "version": "3.11.9"
  }
 },
 "nbformat": 4,
 "nbformat_minor": 5
}
